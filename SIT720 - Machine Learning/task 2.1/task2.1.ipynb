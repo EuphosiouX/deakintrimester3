{
 "cells": [
  {
   "cell_type": "code",
   "execution_count": 2,
   "id": "1b98f389-2020-4f6d-9f2b-a4fcb593e9b0",
   "metadata": {},
   "outputs": [],
   "source": [
    "import numpy as np\n",
    "import matplotlib.pyplot as plt\n",
    "import pandas as pd"
   ]
  },
  {
   "cell_type": "code",
   "execution_count": 3,
   "id": "c802237f-449f-49a1-8640-43eea03a8adf",
   "metadata": {},
   "outputs": [],
   "source": [
    "# Fetch the data \n",
    "df = pd.read_csv('microclimate-sensors-data.csv', delimiter=\",\")"
   ]
  },
  {
   "cell_type": "code",
   "execution_count": 15,
   "id": "91e3d478-09fc-42f5-8ae0-78ea06320f3c",
   "metadata": {},
   "outputs": [
    {
     "name": "stdout",
     "output_type": "stream",
     "text": [
      "Feature name with numbers of missing entries:\n",
      "Device_id                   0\n",
      "Time                        0\n",
      "SensorLocation           6143\n",
      "LatLong                 11483\n",
      "MinimumWindDirection    39823\n",
      "AverageWindDirection      504\n",
      "MaximumWindDirection    39981\n",
      "MinimumWindSpeed        39981\n",
      "AverageWindSpeed          504\n",
      "GustWindSpeed           39981\n",
      "AirTemperature            504\n",
      "RelativeHumidity          504\n",
      "AtmosphericPressure       504\n",
      "PM25                    18969\n",
      "PM10                    18969\n",
      "Noise                   18969\n",
      "dtype: int64\n"
     ]
    }
   ],
   "source": [
    "# https://stackoverflow.com/questions/52865323/how-to-count-missing-data-in-each-column-in-python\n",
    "print('Feature name with numbers of missing entries:')\n",
    "print(df.isnull().sum())"
   ]
  },
  {
   "cell_type": "code",
   "execution_count": 14,
   "id": "8ca5989d-f217-4d4d-8c78-80be3841de87",
   "metadata": {},
   "outputs": [
    {
     "name": "stdout",
     "output_type": "stream",
     "text": [
      "Device_id                   0\n",
      "Time                        0\n",
      "SensorLocation           6143\n",
      "LatLong                 11483\n",
      "MinimumWindDirection    39823\n",
      "AverageWindDirection      504\n",
      "MaximumWindDirection    39981\n",
      "MinimumWindSpeed        39981\n",
      "AverageWindSpeed          504\n",
      "GustWindSpeed           39981\n",
      "AirTemperature            504\n",
      "RelativeHumidity          504\n",
      "AtmosphericPressure       504\n",
      "PM25                    18969\n",
      "PM10                    18969\n",
      "Noise                   18969\n",
      "dtype: int64\n"
     ]
    }
   ],
   "source": [
    "print(df.isnull().sum())"
   ]
  }
 ],
 "metadata": {
  "kernelspec": {
   "display_name": "Python [conda env:base] *",
   "language": "python",
   "name": "conda-base-py"
  },
  "language_info": {
   "codemirror_mode": {
    "name": "ipython",
    "version": 3
   },
   "file_extension": ".py",
   "mimetype": "text/x-python",
   "name": "python",
   "nbconvert_exporter": "python",
   "pygments_lexer": "ipython3",
   "version": "3.12.7"
  }
 },
 "nbformat": 4,
 "nbformat_minor": 5
}

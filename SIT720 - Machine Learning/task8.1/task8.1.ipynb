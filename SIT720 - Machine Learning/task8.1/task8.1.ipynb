{
 "cells": [
  {
   "cell_type": "code",
   "execution_count": 7,
   "id": "b21a8074",
   "metadata": {},
   "outputs": [],
   "source": [
    "import pandas as pd\n",
    "from sklearn.model_selection import train_test_split\n",
    "from sklearn.preprocessing import LabelEncoder, StandardScaler\n",
    "from sklearn.svm import SVC\n",
    "from sklearn.metrics import accuracy_score, classification_report, confusion_matrix\n",
    "from sklearn.tree import DecisionTreeClassifier\n",
    "import numpy as np"
   ]
  },
  {
   "cell_type": "code",
   "execution_count": 3,
   "id": "bfc17230",
   "metadata": {},
   "outputs": [
    {
     "name": "stdout",
     "output_type": "stream",
     "text": [
      "Dataset shape: (10000, 14)\n"
     ]
    }
   ],
   "source": [
    "# Load the dataset\n",
    "df = pd.read_csv('Data_for_UCI_named.csv')\n",
    "\n",
    "# Print the dimension of the dataset\n",
    "print('Dataset shape:', df.shape)"
   ]
  },
  {
   "cell_type": "code",
   "execution_count": 4,
   "id": "f4338dcd",
   "metadata": {},
   "outputs": [
    {
     "name": "stdout",
     "output_type": "stream",
     "text": [
      "\n",
      "Kernel: linear\n",
      "Accuracy: 0.9955\n",
      "Classification Report:\n",
      "               precision    recall  f1-score   support\n",
      "\n",
      "      stable       0.99      0.99      0.99       724\n",
      "    unstable       1.00      1.00      1.00      1276\n",
      "\n",
      "    accuracy                           1.00      2000\n",
      "   macro avg       0.99      1.00      1.00      2000\n",
      "weighted avg       1.00      1.00      1.00      2000\n",
      "\n",
      "Confusion Matrix:\n",
      " [[ 720    4]\n",
      " [   5 1271]]\n",
      "Used Hyperparameters: {'C': 1.0, 'break_ties': False, 'cache_size': 200, 'class_weight': None, 'coef0': 0.0, 'decision_function_shape': 'ovr', 'degree': 3, 'gamma': 'scale', 'kernel': 'linear', 'max_iter': -1, 'probability': False, 'random_state': 42, 'shrinking': True, 'tol': 0.001, 'verbose': False}\n",
      "\n",
      "Kernel: rbf\n",
      "Accuracy: 0.99\n",
      "Classification Report:\n",
      "               precision    recall  f1-score   support\n",
      "\n",
      "      stable       0.99      0.98      0.99       724\n",
      "    unstable       0.99      0.99      0.99      1276\n",
      "\n",
      "    accuracy                           0.99      2000\n",
      "   macro avg       0.99      0.99      0.99      2000\n",
      "weighted avg       0.99      0.99      0.99      2000\n",
      "\n",
      "Confusion Matrix:\n",
      " [[ 711   13]\n",
      " [   7 1269]]\n",
      "Used Hyperparameters: {'C': 1.0, 'break_ties': False, 'cache_size': 200, 'class_weight': None, 'coef0': 0.0, 'decision_function_shape': 'ovr', 'degree': 3, 'gamma': 'scale', 'kernel': 'rbf', 'max_iter': -1, 'probability': False, 'random_state': 42, 'shrinking': True, 'tol': 0.001, 'verbose': False}\n",
      "\n",
      "Kernel: poly\n",
      "Accuracy: 0.9765\n",
      "Classification Report:\n",
      "               precision    recall  f1-score   support\n",
      "\n",
      "      stable       0.98      0.96      0.97       724\n",
      "    unstable       0.98      0.99      0.98      1276\n",
      "\n",
      "    accuracy                           0.98      2000\n",
      "   macro avg       0.98      0.97      0.97      2000\n",
      "weighted avg       0.98      0.98      0.98      2000\n",
      "\n",
      "Confusion Matrix:\n",
      " [[ 692   32]\n",
      " [  15 1261]]\n",
      "Used Hyperparameters: {'C': 1.0, 'break_ties': False, 'cache_size': 200, 'class_weight': None, 'coef0': 0.0, 'decision_function_shape': 'ovr', 'degree': 3, 'gamma': 'scale', 'kernel': 'poly', 'max_iter': -1, 'probability': False, 'random_state': 42, 'shrinking': True, 'tol': 0.001, 'verbose': False}\n"
     ]
    }
   ],
   "source": [
    "# Prepare features and target\n",
    "X = df.drop(['stabf'], axis=1)\n",
    "y = df['stabf']\n",
    "\n",
    "# Encode target labels\n",
    "le = LabelEncoder()\n",
    "y_encoded = le.fit_transform(y)\n",
    "\n",
    "# Split data\n",
    "X_train, X_test, y_train, y_test = train_test_split(X, y_encoded, test_size=0.2, random_state=42, stratify=y_encoded)\n",
    "\n",
    "# Standardize features\n",
    "scaler = StandardScaler()\n",
    "X_train_scaled = scaler.fit_transform(X_train)\n",
    "X_test_scaled = scaler.transform(X_test)\n",
    "\n",
    "kernels = ['linear', 'rbf', 'poly']\n",
    "results = {}\n",
    "\n",
    "for kernel in kernels:\n",
    "    svm = SVC(kernel=kernel, random_state=42)\n",
    "    svm.fit(X_train_scaled, y_train)\n",
    "    y_pred = svm.predict(X_test_scaled)\n",
    "    acc = accuracy_score(y_test, y_pred)\n",
    "    report = classification_report(y_test, y_pred, target_names=le.classes_)\n",
    "    cm = confusion_matrix(y_test, y_pred)\n",
    "    results[kernel] = {\n",
    "        'accuracy': acc,\n",
    "        'classification_report': report,\n",
    "        'confusion_matrix': cm,\n",
    "        'hyperparameters': svm.get_params()\n",
    "    }\n",
    "    print(f'\\nKernel: {kernel}')\n",
    "    print('Accuracy:', acc)\n",
    "    print('Classification Report:\\n', report)\n",
    "    print('Confusion Matrix:\\n', cm)\n",
    "    print('Used Hyperparameters:', svm.get_params())"
   ]
  },
  {
   "cell_type": "code",
   "execution_count": 6,
   "id": "0bbc97d8",
   "metadata": {},
   "outputs": [
    {
     "name": "stdout",
     "output_type": "stream",
     "text": [
      "Kernel: linear, C: 0.01, Accuracy: 0.9910\n",
      "Kernel: linear, C: 0.1, Accuracy: 0.9950\n",
      "Kernel: linear, C: 1, Accuracy: 0.9955\n",
      "Kernel: linear, C: 10, Accuracy: 0.9965\n",
      "Kernel: linear, C: 100, Accuracy: 0.9980\n",
      "Best C for kernel linear: 100 with accuracy 0.9980\n",
      "Kernel: rbf, C: 0.01, Accuracy: 0.9500\n",
      "Kernel: rbf, C: 0.1, Accuracy: 0.9870\n",
      "Kernel: rbf, C: 1, Accuracy: 0.9900\n",
      "Kernel: rbf, C: 10, Accuracy: 0.9850\n",
      "Kernel: rbf, C: 100, Accuracy: 0.9835\n",
      "Best C for kernel rbf: 1 with accuracy 0.9900\n",
      "Kernel: poly, C: 0.01, Accuracy: 0.8795\n",
      "Kernel: poly, C: 0.1, Accuracy: 0.9690\n",
      "Kernel: poly, C: 1, Accuracy: 0.9765\n",
      "Kernel: poly, C: 10, Accuracy: 0.9800\n",
      "Kernel: poly, C: 100, Accuracy: 0.9810\n",
      "Best C for kernel poly: 100 with accuracy 0.9810\n"
     ]
    }
   ],
   "source": [
    "# SVM: Try different C values for each kernel\n",
    "C_values = [0.01, 0.1, 1, 10, 100]\n",
    "svm_results = {}\n",
    "\n",
    "for kernel in kernels:\n",
    "    best_acc = 0\n",
    "    best_C = None\n",
    "    for C in C_values:\n",
    "        svm = SVC(kernel=kernel, C=C, random_state=42)\n",
    "        svm.fit(X_train_scaled, y_train)\n",
    "        y_pred = svm.predict(X_test_scaled)\n",
    "        acc = accuracy_score(y_test, y_pred)\n",
    "        if acc > best_acc:\n",
    "            best_acc = acc\n",
    "            best_C = C\n",
    "        print(f'Kernel: {kernel}, C: {C}, Accuracy: {acc:.4f}')\n",
    "    print(f'Best C for kernel {kernel}: {best_C} with accuracy {best_acc:.4f}')\n",
    "    svm_results[kernel] = {'best_C': best_C, 'best_accuracy': best_acc}"
   ]
  },
  {
   "cell_type": "code",
   "execution_count": 8,
   "id": "5e2ac213",
   "metadata": {},
   "outputs": [
    {
     "name": "stdout",
     "output_type": "stream",
     "text": [
      "Decision Tree depth: 1, Accuracy: 1.0000\n",
      "Decision Tree depth: 2, Accuracy: 1.0000\n",
      "Decision Tree depth: 3, Accuracy: 1.0000\n",
      "Decision Tree depth: 4, Accuracy: 1.0000\n",
      "Decision Tree depth: 5, Accuracy: 1.0000\n",
      "Decision Tree depth: 6, Accuracy: 1.0000\n",
      "Decision Tree depth: 7, Accuracy: 1.0000\n",
      "Decision Tree depth: 8, Accuracy: 1.0000\n",
      "Decision Tree depth: 9, Accuracy: 1.0000\n",
      "Decision Tree depth: 10, Accuracy: 1.0000\n",
      "Decision Tree depth: 11, Accuracy: 1.0000\n",
      "Decision Tree depth: 12, Accuracy: 1.0000\n",
      "Decision Tree depth: 13, Accuracy: 1.0000\n",
      "Decision Tree depth: 14, Accuracy: 1.0000\n",
      "Decision Tree depth: 15, Accuracy: 1.0000\n",
      "Decision Tree depth: 16, Accuracy: 1.0000\n",
      "Decision Tree depth: 17, Accuracy: 1.0000\n",
      "Decision Tree depth: 18, Accuracy: 1.0000\n",
      "Decision Tree depth: 19, Accuracy: 1.0000\n",
      "Decision Tree depth: 20, Accuracy: 1.0000\n",
      "Best depth for Decision Tree: 1 with accuracy 1.0000\n"
     ]
    }
   ],
   "source": [
    "# Decision Tree: Tune max_depth\n",
    "depths = range(1, 21)\n",
    "best_dt_acc = 0\n",
    "best_depth = None\n",
    "\n",
    "for depth in depths:\n",
    "    dt = DecisionTreeClassifier(max_depth=depth, random_state=42)\n",
    "    dt.fit(X_train, y_train)\n",
    "    y_pred = dt.predict(X_test)\n",
    "    acc = accuracy_score(y_test, y_pred)\n",
    "    if acc > best_dt_acc:\n",
    "        best_dt_acc = acc\n",
    "        best_depth = depth\n",
    "    print(f'Decision Tree depth: {depth}, Accuracy: {acc:.4f}')\n",
    "print(f'Best depth for Decision Tree: {best_depth} with accuracy {best_dt_acc:.4f}')"
   ]
  },
  {
   "cell_type": "markdown",
   "id": "f70637b7",
   "metadata": {},
   "source": [
    "# Understanding Hyperparameter Tuning in ML Model Development\n",
    "Hyperparameter tuning is a crucial step in machine learning model development. Hyperparameters, such as the regularization parameter `C` in SVMs or the `max_depth` in Decision Trees, control the learning process and model complexity. Proper tuning helps to balance underfitting and overfitting, leading to better generalization on unseen data. Grid search or manual search over a range of values, as demonstrated above, allows us to find the optimal settings for our models. The choice of hyperparameters can significantly impact model performance, and their selection should be guided by validation results and domain knowledge."
   ]
  }
 ],
 "metadata": {
  "kernelspec": {
   "display_name": "base",
   "language": "python",
   "name": "python3"
  },
  "language_info": {
   "codemirror_mode": {
    "name": "ipython",
    "version": 3
   },
   "file_extension": ".py",
   "mimetype": "text/x-python",
   "name": "python",
   "nbconvert_exporter": "python",
   "pygments_lexer": "ipython3",
   "version": "3.12.3"
  }
 },
 "nbformat": 4,
 "nbformat_minor": 5
}

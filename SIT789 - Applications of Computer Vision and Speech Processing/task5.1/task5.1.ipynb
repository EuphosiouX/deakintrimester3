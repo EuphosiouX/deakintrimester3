{
 "cells": [
  {
   "cell_type": "code",
   "execution_count": 1,
   "id": "9613b782-60a6-4a5d-8d8e-acf9c52b9762",
   "metadata": {},
   "outputs": [
    {
     "name": "stdout",
     "output_type": "stream",
     "text": [
      "cuda\n"
     ]
    }
   ],
   "source": [
    "import torch\n",
    "device = torch.device('cuda' if torch.cuda.is_available() else 'cpu')\n",
    "\n",
    "print(device)"
   ]
  },
  {
   "cell_type": "code",
   "execution_count": 2,
   "id": "80333e39-5a37-4fe4-a835-b5a199aa2691",
   "metadata": {},
   "outputs": [
    {
     "name": "stdout",
     "output_type": "stream",
     "text": [
      "tensor([[0.8854, 0.4243, 0.2893],\n",
      "        [0.8358, 0.9129, 0.3120],\n",
      "        [0.5592, 0.2955, 0.8139],\n",
      "        [0.6356, 0.0458, 0.0684],\n",
      "        [0.5003, 0.9225, 0.5312]])\n"
     ]
    }
   ],
   "source": [
    "x = torch.rand(5, 3)\n",
    "print(x)"
   ]
  },
  {
   "cell_type": "code",
   "execution_count": 3,
   "id": "fe09236a-e5a1-4d0e-9705-716d6623d58f",
   "metadata": {},
   "outputs": [
    {
     "name": "stdout",
     "output_type": "stream",
     "text": [
      "torch.Size([5, 3])\n"
     ]
    }
   ],
   "source": [
    "print(x.size())"
   ]
  },
  {
   "cell_type": "code",
   "execution_count": 4,
   "id": "ad375130-9761-4c4f-987d-962b9a0396c2",
   "metadata": {},
   "outputs": [
    {
     "name": "stdout",
     "output_type": "stream",
     "text": [
      "tensor([[0.9299, 1.1276, 0.9218],\n",
      "        [0.9860, 1.7485, 0.7756],\n",
      "        [1.0366, 0.6210, 1.2175],\n",
      "        [0.9813, 0.5023, 0.6716],\n",
      "        [0.8637, 1.5655, 1.2282]])\n"
     ]
    }
   ],
   "source": [
    "y = torch.rand(5, 3)\n",
    "z = x + y\n",
    "print(z)"
   ]
  },
  {
   "cell_type": "code",
   "execution_count": 5,
   "id": "e4e6b19e-b6aa-43a6-9de1-d52b0fb797b7",
   "metadata": {},
   "outputs": [
    {
     "name": "stdout",
     "output_type": "stream",
     "text": [
      "[[0.8853531  0.42434156 0.28928554]\n",
      " [0.83581257 0.9129179  0.3119768 ]\n",
      " [0.5591813  0.2955262  0.813907  ]\n",
      " [0.6355772  0.04578692 0.06836361]\n",
      " [0.5003161  0.92254597 0.53121024]]\n"
     ]
    }
   ],
   "source": [
    "t = x.numpy()\n",
    "print(t)"
   ]
  },
  {
   "cell_type": "code",
   "execution_count": 6,
   "id": "4cfc6425-fe56-489a-a5b3-3dc1362627ca",
   "metadata": {},
   "outputs": [
    {
     "name": "stdout",
     "output_type": "stream",
     "text": [
      "tensor([[0.8854, 0.4243, 0.2893],\n",
      "        [0.8358, 0.9129, 0.3120],\n",
      "        [0.5592, 0.2955, 0.8139],\n",
      "        [0.6356, 0.0458, 0.0684],\n",
      "        [0.5003, 0.9225, 0.5312]])\n"
     ]
    }
   ],
   "source": [
    "u = torch.from_numpy(t)\n",
    "print(u)"
   ]
  },
  {
   "cell_type": "code",
   "execution_count": 7,
   "id": "bbb77970-1a14-4328-8014-416eba39d12f",
   "metadata": {},
   "outputs": [],
   "source": [
    " class TwoLayerNet(torch.nn.Module):\n",
    "    def __init__(self, D_in, H, D_out): #D_in/H/D_out: dim of input/hidden/output layer\n",
    "        \"\"\"\n",
    "        In the constructor we instantiate two nn.Linear modules and assign them as\n",
    "        member variables.\n",
    "        \"\"\"\n",
    "        super(TwoLayerNet, self).__init__()\n",
    "        self.linear1 = torch.nn.Linear(D_in, H)\n",
    "        self.linear2 = torch.nn.Linear(H, D_out)\n",
    "\n",
    "    def forward(self, x):\n",
    "        \"\"\"\n",
    "        In the forward function we accept a Tensor of input data and we must return\n",
    "        a Tensor of output data. We can use Modules defined in the constructor as\n",
    "        well as arbitrary operators on Tensors.\n",
    "        \"\"\"\n",
    "        h_relu = self.linear1(x).clamp(min=0)\n",
    "        y_pred = self.linear2(h_relu)\n",
    "        return y_pred"
   ]
  },
  {
   "cell_type": "code",
   "execution_count": 8,
   "id": "7c258948-ae28-47f6-9197-ca5387faba8f",
   "metadata": {},
   "outputs": [
    {
     "name": "stdout",
     "output_type": "stream",
     "text": [
      "99 2.8331403732299805\n",
      "199 0.0356934554874897\n",
      "299 0.0008704424253664911\n",
      "399 2.444941310386639e-05\n",
      "499 7.281616376531019e-07\n"
     ]
    }
   ],
   "source": [
    "# N is batch size; D_in is input dimension;\n",
    "# H is hidden dimension; D_out is output dimension.\n",
    "N, D_in, H, D_out = 64, 1000, 100, 10\n",
    "\n",
    "# Create random Tensors to hold inputs and outputs\n",
    "x = torch.randn(N, D_in)\n",
    "y = torch.randn(N, D_out)\n",
    "\n",
    "# Construct our model by instantiating the class defined above\n",
    "model = TwoLayerNet(D_in, H, D_out)\n",
    "\n",
    "# Move the model to GPU\n",
    "model.to(device)\n",
    "\n",
    "# Construct our loss function and an Optimizer. The call to model.parameters()\n",
    "# in the SGD constructor will contain the learnable parameters of the two\n",
    "# nn.Linear modules which are members of the model.\n",
    "criterion = torch.nn.MSELoss(reduction='sum')\n",
    "optimizer = torch.optim.SGD(model.parameters(), lr=1e-4)\n",
    "for t in range(500):\n",
    "    # Forward pass: Compute predicted y by passing x to the model\n",
    "    y_pred = model(x.to(device)) # Don’t forget x.to(device)\n",
    "\n",
    "    # Compute and print loss\n",
    "    loss = criterion(y_pred, y.to(device)) # Don’t forget y.to(device)\n",
    "    if t % 100 == 99:\n",
    "        print(t, loss.item())\n",
    "        # Zero gradients, perform a backward pass, and update the weights.\n",
    "    optimizer.zero_grad()\n",
    "    loss.backward()\n",
    "    optimizer.step()"
   ]
  },
  {
   "cell_type": "code",
   "execution_count": 9,
   "id": "8cfbe935-7f01-425b-baaa-abd52dfc3091",
   "metadata": {},
   "outputs": [],
   "source": [
    "import torchvision\n",
    "import torchvision.transforms as transforms\n",
    "\n",
    "transform = transforms.Compose(\n",
    "    [transforms.ToTensor(),\n",
    "     transforms.Normalize((0.5, 0.5, 0.5), (0.5, 0.5, 0.5))])\n",
    "\n",
    "trainset = torchvision.datasets.CIFAR10(root='./data',\n",
    "                                        train=True, #for training\n",
    "                                        download=True, transform=transform)\n",
    "\n",
    "trainloader = torch.utils.data.DataLoader(trainset,\n",
    "                                          batch_size=4, #process 4 images at a time\n",
    "                                          shuffle=True, num_workers=2)\n",
    "testset = torchvision.datasets.CIFAR10(root='./data',\n",
    "                                       train=False, #not for training\n",
    "                                       download=True, transform=transform)\n",
    "testloader = torch.utils.data.DataLoader(testset,\n",
    "                                         batch_size=4, #process 4 images at a time\n",
    "                                         shuffle=False, num_workers=2)\n",
    "\n",
    "classes = ('plane', 'car', 'bird', 'cat',\n",
    "           'deer', 'dog', 'frog', 'horse', 'ship', 'truck')"
   ]
  },
  {
   "cell_type": "code",
   "execution_count": 10,
   "id": "6d52af85-f462-4551-9822-5a38f5410002",
   "metadata": {},
   "outputs": [
    {
     "data": {
      "image/png": "[encoded data removed]",
      "text/plain": [
       "<Figure size 640x480 with 1 Axes>"
      ]
     },
     "metadata": {},
     "output_type": "display_data"
    },
    {
     "name": "stdout",
     "output_type": "stream",
     "text": [
      "  car  deer  bird  frog\n"
     ]
    }
   ],
   "source": [
    "import matplotlib.pyplot as plt\n",
    "import numpy as np\n",
    "\n",
    "# function to show an image\n",
    "def imshow(img):\n",
    "    img = img / 2 + 0.5     # unnormalize\n",
    "    npimg = img.numpy()\n",
    "    plt.imshow(np.transpose(npimg, (1, 2, 0)))\n",
    "    plt.show()\n",
    "\n",
    "# get some random training images\n",
    "dataiter = iter(trainloader)\n",
    "images, labels = next(dataiter)\n",
    "\n",
    "# show images\n",
    "imshow(torchvision.utils.make_grid(images))\n",
    "\n",
    "# print true labels of the images\n",
    "print(' '.join('%5s' % classes[labels[j]] for j in range(4)))"
   ]
  },
  {
   "cell_type": "code",
   "execution_count": 11,
   "id": "20576aa9-69ae-4d04-869c-aa3c56453c6d",
   "metadata": {},
   "outputs": [],
   "source": [
    "import torch.nn as nn\n",
    "import torch.nn.functional as F\n",
    "\n",
    "class Net(nn.Module):\n",
    "    def __init__(self):\n",
    "        super(Net, self).__init__()\n",
    "        self.conv1 = nn.Conv2d(3, 6, 5)\n",
    "        self.pool = nn.MaxPool2d(2, 2)\n",
    "        self.conv2 = nn.Conv2d(6, 16, 5)\n",
    "        self.fc1 = nn.Linear(16 * 5 * 5, 120)\n",
    "        self.fc2 = nn.Linear(120, 84)\n",
    "        self.fc3 = nn.Linear(84, 10)\n",
    "\n",
    "    def forward(self, x):\n",
    "        f = self.pool(F.relu(self.conv1(x)))  #f = self.conv1(x),\n",
    "                                              #f = F.relu(f),\n",
    "                                              #f = self.pool(f)\n",
    "        f = self.pool(F.relu(self.conv2(f)))  #f = self.conv2(f),\n",
    "                                              #f = F.relu(f),\n",
    "                                              #f = self.pool(f)\n",
    "\n",
    "        f = f.view(-1, 16 * 5 * 5) #make a 16x5x5 tensor to 16x5x5-dimensional vector\n",
    "        f = F.relu(self.fc1(f))\n",
    "        f = F.relu(self.fc2(f))\n",
    "        f = self.fc3(f)\n",
    "\n",
    "        return f\n",
    "\n",
    "net = Net()"
   ]
  },
  {
   "cell_type": "code",
   "execution_count": 12,
   "id": "3ea0aa67-3e03-48dc-bc50-0080f2da2971",
   "metadata": {},
   "outputs": [],
   "source": [
    "\n",
    "import torch.optim as optim\n",
    "criterion = nn.CrossEntropyLoss().to(device)\n",
    "optimizer = optim.AdamW(net.parameters(), lr=0.0005) #lr: learning rate"
   ]
  },
  {
   "cell_type": "code",
   "execution_count": 29,
   "id": "4849a144-f90a-480d-9ad9-63fb42da630a",
   "metadata": {},
   "outputs": [
    {
     "name": "stdout",
     "output_type": "stream",
     "text": [
      "epoch: 1, batches:  2000, loss: 1.899\n",
      "epoch: 1, batches:  4000, loss: 1.636\n",
      "epoch: 1, batches:  6000, loss: 1.516\n",
      "epoch: 1, batches:  8000, loss: 1.476\n",
      "epoch: 1, batches: 10000, loss: 1.388\n",
      "epoch: 1, batches: 12000, loss: 1.326\n",
      "epoch: 2, batches:  2000, loss: 1.286\n",
      "epoch: 2, batches:  4000, loss: 1.244\n",
      "epoch: 2, batches:  6000, loss: 1.225\n",
      "epoch: 2, batches:  8000, loss: 1.231\n",
      "epoch: 2, batches: 10000, loss: 1.191\n",
      "epoch: 2, batches: 12000, loss: 1.192\n",
      "epoch: 3, batches:  2000, loss: 1.098\n",
      "epoch: 3, batches:  4000, loss: 1.136\n",
      "epoch: 3, batches:  6000, loss: 1.114\n",
      "epoch: 3, batches:  8000, loss: 1.119\n",
      "epoch: 3, batches: 10000, loss: 1.101\n",
      "epoch: 3, batches: 12000, loss: 1.097\n",
      "epoch: 4, batches:  2000, loss: 1.020\n",
      "epoch: 4, batches:  4000, loss: 1.018\n",
      "epoch: 4, batches:  6000, loss: 1.042\n",
      "epoch: 4, batches:  8000, loss: 1.013\n",
      "epoch: 4, batches: 10000, loss: 1.017\n",
      "epoch: 4, batches: 12000, loss: 1.051\n",
      "epoch: 5, batches:  2000, loss: 0.943\n",
      "epoch: 5, batches:  4000, loss: 0.962\n",
      "epoch: 5, batches:  6000, loss: 0.973\n",
      "epoch: 5, batches:  8000, loss: 0.987\n",
      "epoch: 5, batches: 10000, loss: 0.981\n",
      "epoch: 5, batches: 12000, loss: 0.964\n",
      "epoch: 6, batches:  2000, loss: 0.905\n",
      "epoch: 6, batches:  4000, loss: 0.926\n",
      "epoch: 6, batches:  6000, loss: 0.927\n",
      "epoch: 6, batches:  8000, loss: 0.933\n",
      "epoch: 6, batches: 10000, loss: 0.936\n",
      "epoch: 6, batches: 12000, loss: 0.909\n",
      "epoch: 7, batches:  2000, loss: 0.841\n",
      "epoch: 7, batches:  4000, loss: 0.873\n",
      "epoch: 7, batches:  6000, loss: 0.902\n",
      "epoch: 7, batches:  8000, loss: 0.869\n",
      "epoch: 7, batches: 10000, loss: 0.903\n",
      "epoch: 7, batches: 12000, loss: 0.890\n",
      "epoch: 8, batches:  2000, loss: 0.834\n",
      "epoch: 8, batches:  4000, loss: 0.829\n",
      "epoch: 8, batches:  6000, loss: 0.858\n",
      "epoch: 8, batches:  8000, loss: 0.868\n",
      "epoch: 8, batches: 10000, loss: 0.843\n",
      "epoch: 8, batches: 12000, loss: 0.852\n",
      "epoch: 9, batches:  2000, loss: 0.781\n",
      "epoch: 9, batches:  4000, loss: 0.829\n",
      "epoch: 9, batches:  6000, loss: 0.823\n",
      "epoch: 9, batches:  8000, loss: 0.816\n",
      "epoch: 9, batches: 10000, loss: 0.835\n",
      "epoch: 9, batches: 12000, loss: 0.826\n",
      "epoch: 10, batches:  2000, loss: 0.771\n",
      "epoch: 10, batches:  4000, loss: 0.785\n",
      "epoch: 10, batches:  6000, loss: 0.788\n",
      "epoch: 10, batches:  8000, loss: 0.799\n",
      "epoch: 10, batches: 10000, loss: 0.811\n",
      "epoch: 10, batches: 12000, loss: 0.816\n",
      "epoch: 11, batches:  2000, loss: 0.735\n",
      "epoch: 11, batches:  4000, loss: 0.753\n",
      "epoch: 11, batches:  6000, loss: 0.795\n",
      "epoch: 11, batches:  8000, loss: 0.797\n",
      "epoch: 11, batches: 10000, loss: 0.782\n",
      "epoch: 11, batches: 12000, loss: 0.796\n",
      "epoch: 12, batches:  2000, loss: 0.722\n",
      "epoch: 12, batches:  4000, loss: 0.752\n",
      "epoch: 12, batches:  6000, loss: 0.753\n",
      "epoch: 12, batches:  8000, loss: 0.750\n",
      "epoch: 12, batches: 10000, loss: 0.771\n",
      "epoch: 12, batches: 12000, loss: 0.773\n",
      "epoch: 13, batches:  2000, loss: 0.702\n",
      "epoch: 13, batches:  4000, loss: 0.719\n",
      "epoch: 13, batches:  6000, loss: 0.737\n",
      "epoch: 13, batches:  8000, loss: 0.737\n",
      "epoch: 13, batches: 10000, loss: 0.774\n",
      "epoch: 13, batches: 12000, loss: 0.761\n",
      "epoch: 14, batches:  2000, loss: 0.662\n",
      "epoch: 14, batches:  4000, loss: 0.718\n",
      "epoch: 14, batches:  6000, loss: 0.715\n",
      "epoch: 14, batches:  8000, loss: 0.734\n",
      "epoch: 14, batches: 10000, loss: 0.736\n",
      "epoch: 14, batches: 12000, loss: 0.768\n",
      "epoch: 15, batches:  2000, loss: 0.658\n",
      "epoch: 15, batches:  4000, loss: 0.695\n",
      "epoch: 15, batches:  6000, loss: 0.681\n",
      "epoch: 15, batches:  8000, loss: 0.711\n",
      "epoch: 15, batches: 10000, loss: 0.723\n",
      "epoch: 15, batches: 12000, loss: 0.741\n",
      "epoch: 16, batches:  2000, loss: 0.648\n",
      "epoch: 16, batches:  4000, loss: 0.665\n",
      "epoch: 16, batches:  6000, loss: 0.695\n",
      "epoch: 16, batches:  8000, loss: 0.702\n",
      "epoch: 16, batches: 10000, loss: 0.707\n",
      "epoch: 16, batches: 12000, loss: 0.716\n",
      "epoch: 17, batches:  2000, loss: 0.632\n",
      "epoch: 17, batches:  4000, loss: 0.660\n",
      "epoch: 17, batches:  6000, loss: 0.654\n",
      "epoch: 17, batches:  8000, loss: 0.691\n",
      "epoch: 17, batches: 10000, loss: 0.692\n",
      "epoch: 17, batches: 12000, loss: 0.716\n",
      "epoch: 18, batches:  2000, loss: 0.628\n",
      "epoch: 18, batches:  4000, loss: 0.633\n",
      "epoch: 18, batches:  6000, loss: 0.666\n",
      "epoch: 18, batches:  8000, loss: 0.677\n",
      "epoch: 18, batches: 10000, loss: 0.696\n",
      "epoch: 18, batches: 12000, loss: 0.686\n",
      "epoch: 19, batches:  2000, loss: 0.595\n",
      "epoch: 19, batches:  4000, loss: 0.633\n",
      "epoch: 19, batches:  6000, loss: 0.664\n",
      "epoch: 19, batches:  8000, loss: 0.666\n",
      "epoch: 19, batches: 10000, loss: 0.681\n",
      "epoch: 19, batches: 12000, loss: 0.679\n",
      "epoch: 20, batches:  2000, loss: 0.601\n",
      "epoch: 20, batches:  4000, loss: 0.632\n",
      "epoch: 20, batches:  6000, loss: 0.644\n",
      "epoch: 20, batches:  8000, loss: 0.648\n",
      "epoch: 20, batches: 10000, loss: 0.659\n",
      "epoch: 20, batches: 12000, loss: 0.678\n",
      "epoch: 21, batches:  2000, loss: 0.592\n",
      "epoch: 21, batches:  4000, loss: 0.611\n",
      "epoch: 21, batches:  6000, loss: 0.624\n",
      "epoch: 21, batches:  8000, loss: 0.636\n",
      "epoch: 21, batches: 10000, loss: 0.664\n",
      "epoch: 21, batches: 12000, loss: 0.685\n",
      "epoch: 22, batches:  2000, loss: 0.571\n",
      "epoch: 22, batches:  4000, loss: 0.608\n",
      "epoch: 22, batches:  6000, loss: 0.623\n",
      "epoch: 22, batches:  8000, loss: 0.615\n",
      "epoch: 22, batches: 10000, loss: 0.637\n",
      "epoch: 22, batches: 12000, loss: 0.669\n",
      "epoch: 23, batches:  2000, loss: 0.569\n",
      "epoch: 23, batches:  4000, loss: 0.594\n",
      "epoch: 23, batches:  6000, loss: 0.596\n",
      "epoch: 23, batches:  8000, loss: 0.643\n",
      "epoch: 23, batches: 10000, loss: 0.647\n",
      "epoch: 23, batches: 12000, loss: 0.655\n",
      "epoch: 24, batches:  2000, loss: 0.555\n",
      "epoch: 24, batches:  4000, loss: 0.590\n",
      "epoch: 24, batches:  6000, loss: 0.617\n",
      "epoch: 24, batches:  8000, loss: 0.612\n",
      "epoch: 24, batches: 10000, loss: 0.625\n",
      "epoch: 24, batches: 12000, loss: 0.637\n",
      "epoch: 25, batches:  2000, loss: 0.553\n",
      "epoch: 25, batches:  4000, loss: 0.578\n",
      "epoch: 25, batches:  6000, loss: 0.600\n",
      "epoch: 25, batches:  8000, loss: 0.618\n",
      "epoch: 25, batches: 10000, loss: 0.631\n",
      "epoch: 25, batches: 12000, loss: 0.629\n",
      "epoch: 26, batches:  2000, loss: 0.541\n",
      "epoch: 26, batches:  4000, loss: 0.569\n",
      "epoch: 26, batches:  6000, loss: 0.586\n",
      "epoch: 26, batches:  8000, loss: 0.616\n",
      "epoch: 26, batches: 10000, loss: 0.607\n",
      "epoch: 26, batches: 12000, loss: 0.635\n",
      "epoch: 27, batches:  2000, loss: 0.537\n",
      "epoch: 27, batches:  4000, loss: 0.563\n",
      "epoch: 27, batches:  6000, loss: 0.561\n",
      "epoch: 27, batches:  8000, loss: 0.606\n",
      "epoch: 27, batches: 10000, loss: 0.627\n",
      "epoch: 27, batches: 12000, loss: 0.626\n",
      "epoch: 28, batches:  2000, loss: 0.529\n",
      "epoch: 28, batches:  4000, loss: 0.552\n",
      "epoch: 28, batches:  6000, loss: 0.606\n",
      "epoch: 28, batches:  8000, loss: 0.600\n",
      "epoch: 28, batches: 10000, loss: 0.602\n",
      "epoch: 28, batches: 12000, loss: 0.608\n",
      "epoch: 29, batches:  2000, loss: 0.525\n",
      "epoch: 29, batches:  4000, loss: 0.564\n",
      "epoch: 29, batches:  6000, loss: 0.557\n",
      "epoch: 29, batches:  8000, loss: 0.594\n",
      "epoch: 29, batches: 10000, loss: 0.596\n",
      "epoch: 29, batches: 12000, loss: 0.626\n",
      "epoch: 30, batches:  2000, loss: 0.532\n",
      "epoch: 30, batches:  4000, loss: 0.562\n",
      "epoch: 30, batches:  6000, loss: 0.574\n",
      "epoch: 30, batches:  8000, loss: 0.583\n",
      "epoch: 30, batches: 10000, loss: 0.583\n",
      "epoch: 30, batches: 12000, loss: 0.615\n",
      "epoch: 31, batches:  2000, loss: 0.504\n",
      "epoch: 31, batches:  4000, loss: 0.549\n",
      "epoch: 31, batches:  6000, loss: 0.555\n",
      "epoch: 31, batches:  8000, loss: 0.600\n",
      "epoch: 31, batches: 10000, loss: 0.597\n",
      "epoch: 31, batches: 12000, loss: 0.593\n",
      "epoch: 32, batches:  2000, loss: 0.505\n",
      "epoch: 32, batches:  4000, loss: 0.526\n",
      "epoch: 32, batches:  6000, loss: 0.556\n",
      "epoch: 32, batches:  8000, loss: 0.568\n",
      "epoch: 32, batches: 10000, loss: 0.597\n",
      "epoch: 32, batches: 12000, loss: 0.615\n",
      "epoch: 33, batches:  2000, loss: 0.504\n",
      "epoch: 33, batches:  4000, loss: 0.520\n",
      "epoch: 33, batches:  6000, loss: 0.534\n",
      "epoch: 33, batches:  8000, loss: 0.581\n",
      "epoch: 33, batches: 10000, loss: 0.599\n",
      "epoch: 33, batches: 12000, loss: 0.615\n",
      "epoch: 34, batches:  2000, loss: 0.507\n",
      "epoch: 34, batches:  4000, loss: 0.539\n",
      "epoch: 34, batches:  6000, loss: 0.545\n",
      "epoch: 34, batches:  8000, loss: 0.561\n",
      "epoch: 34, batches: 10000, loss: 0.580\n",
      "epoch: 34, batches: 12000, loss: 0.594\n",
      "epoch: 35, batches:  2000, loss: 0.501\n",
      "epoch: 35, batches:  4000, loss: 0.521\n",
      "epoch: 35, batches:  6000, loss: 0.552\n",
      "epoch: 35, batches:  8000, loss: 0.545\n",
      "epoch: 35, batches: 10000, loss: 0.584\n",
      "epoch: 35, batches: 12000, loss: 0.572\n",
      "epoch: 36, batches:  2000, loss: 0.494\n",
      "epoch: 36, batches:  4000, loss: 0.514\n",
      "epoch: 36, batches:  6000, loss: 0.548\n",
      "epoch: 36, batches:  8000, loss: 0.556\n",
      "epoch: 36, batches: 10000, loss: 0.573\n",
      "epoch: 36, batches: 12000, loss: 0.586\n",
      "epoch: 37, batches:  2000, loss: 0.475\n",
      "epoch: 37, batches:  4000, loss: 0.520\n",
      "epoch: 37, batches:  6000, loss: 0.542\n",
      "epoch: 37, batches:  8000, loss: 0.552\n",
      "epoch: 37, batches: 10000, loss: 0.589\n",
      "epoch: 37, batches: 12000, loss: 0.588\n",
      "epoch: 38, batches:  2000, loss: 0.484\n",
      "epoch: 38, batches:  4000, loss: 0.515\n",
      "epoch: 38, batches:  6000, loss: 0.538\n",
      "epoch: 38, batches:  8000, loss: 0.536\n",
      "epoch: 38, batches: 10000, loss: 0.566\n",
      "epoch: 38, batches: 12000, loss: 0.565\n",
      "epoch: 39, batches:  2000, loss: 0.471\n",
      "epoch: 39, batches:  4000, loss: 0.501\n",
      "epoch: 39, batches:  6000, loss: 0.520\n",
      "epoch: 39, batches:  8000, loss: 0.558\n",
      "epoch: 39, batches: 10000, loss: 0.562\n",
      "epoch: 39, batches: 12000, loss: 0.574\n",
      "epoch: 40, batches:  2000, loss: 0.483\n",
      "epoch: 40, batches:  4000, loss: 0.496\n",
      "epoch: 40, batches:  6000, loss: 0.524\n",
      "epoch: 40, batches:  8000, loss: 0.550\n",
      "epoch: 40, batches: 10000, loss: 0.550\n",
      "epoch: 40, batches: 12000, loss: 0.571\n",
      "epoch: 41, batches:  2000, loss: 0.476\n",
      "epoch: 41, batches:  4000, loss: 0.501\n",
      "epoch: 41, batches:  6000, loss: 0.508\n",
      "epoch: 41, batches:  8000, loss: 0.542\n",
      "epoch: 41, batches: 10000, loss: 0.575\n",
      "epoch: 41, batches: 12000, loss: 0.565\n",
      "epoch: 42, batches:  2000, loss: 0.472\n",
      "epoch: 42, batches:  4000, loss: 0.512\n",
      "epoch: 42, batches:  6000, loss: 0.522\n",
      "epoch: 42, batches:  8000, loss: 0.534\n",
      "epoch: 42, batches: 10000, loss: 0.553\n",
      "epoch: 42, batches: 12000, loss: 0.568\n",
      "epoch: 43, batches:  2000, loss: 0.466\n",
      "epoch: 43, batches:  4000, loss: 0.497\n",
      "epoch: 43, batches:  6000, loss: 0.547\n",
      "epoch: 43, batches:  8000, loss: 0.535\n",
      "epoch: 43, batches: 10000, loss: 0.529\n",
      "epoch: 43, batches: 12000, loss: 0.563\n",
      "epoch: 44, batches:  2000, loss: 0.457\n",
      "epoch: 44, batches:  4000, loss: 0.500\n",
      "epoch: 44, batches:  6000, loss: 0.518\n",
      "epoch: 44, batches:  8000, loss: 0.541\n",
      "epoch: 44, batches: 10000, loss: 0.533\n",
      "epoch: 44, batches: 12000, loss: 0.556\n",
      "epoch: 45, batches:  2000, loss: 0.456\n",
      "epoch: 45, batches:  4000, loss: 0.481\n",
      "epoch: 45, batches:  6000, loss: 0.508\n",
      "epoch: 45, batches:  8000, loss: 0.537\n",
      "epoch: 45, batches: 10000, loss: 0.550\n",
      "epoch: 45, batches: 12000, loss: 0.555\n",
      "epoch: 46, batches:  2000, loss: 0.444\n",
      "epoch: 46, batches:  4000, loss: 0.501\n",
      "epoch: 46, batches:  6000, loss: 0.508\n",
      "epoch: 46, batches:  8000, loss: 0.516\n",
      "epoch: 46, batches: 10000, loss: 0.543\n",
      "epoch: 46, batches: 12000, loss: 0.553\n",
      "epoch: 47, batches:  2000, loss: 0.449\n",
      "epoch: 47, batches:  4000, loss: 0.485\n",
      "epoch: 47, batches:  6000, loss: 0.517\n",
      "epoch: 47, batches:  8000, loss: 0.535\n",
      "epoch: 47, batches: 10000, loss: 0.539\n",
      "epoch: 47, batches: 12000, loss: 0.557\n",
      "epoch: 48, batches:  2000, loss: 0.460\n",
      "epoch: 48, batches:  4000, loss: 0.478\n",
      "epoch: 48, batches:  6000, loss: 0.506\n",
      "epoch: 48, batches:  8000, loss: 0.506\n",
      "epoch: 48, batches: 10000, loss: 0.543\n",
      "epoch: 48, batches: 12000, loss: 0.550\n",
      "epoch: 49, batches:  2000, loss: 0.452\n",
      "epoch: 49, batches:  4000, loss: 0.466\n",
      "epoch: 49, batches:  6000, loss: 0.505\n",
      "epoch: 49, batches:  8000, loss: 0.538\n",
      "epoch: 49, batches: 10000, loss: 0.548\n",
      "epoch: 49, batches: 12000, loss: 0.549\n",
      "epoch: 50, batches:  2000, loss: 0.447\n",
      "epoch: 50, batches:  4000, loss: 0.472\n",
      "epoch: 50, batches:  6000, loss: 0.497\n",
      "epoch: 50, batches:  8000, loss: 0.503\n",
      "epoch: 50, batches: 10000, loss: 0.544\n",
      "epoch: 50, batches: 12000, loss: 0.535\n"
     ]
    }
   ],
   "source": [
    "import time\n",
    "import matplotlib.pyplot as plt\n",
    "\n",
    "net.to(device)\n",
    "start_time = time.time()\n",
    "loss_history = []\n",
    "epoch = 50\n",
    "\n",
    "for e in range(epoch):  # loop over the dataset multiple times\n",
    "    running_loss = 0.0\n",
    "    for i, data in enumerate(trainloader, 0):\n",
    " # data is a list of [inputs, labels]\n",
    "        inputs, labels = data[0].to(device), data[1].to(device)\n",
    "\n",
    " # set the parameter gradients to zeros\n",
    "        optimizer.zero_grad()\n",
    "\n",
    " # forward\n",
    "        outputs = net(inputs)\n",
    "\n",
    " #calculate errors\n",
    "        loss = criterion(outputs, labels) #calculate errors\n",
    "\n",
    "        #backward\n",
    "        loss.backward()\n",
    "        optimizer.step()\n",
    "\n",
    "        running_loss += loss.item() # update total loss\n",
    "        if i % 2000 == 1999:    # print every 2000 mini-batches\n",
    "            print('epoch: %d, batches: %5d, loss: %.3f' %\n",
    "    (e + 1, i + 1, running_loss / 2000))\n",
    "            loss_history.append(running_loss)\n",
    "            running_loss = 0.0"
   ]
  },
  {
   "cell_type": "code",
   "execution_count": 30,
   "id": "04d0a8b4-0627-42bb-a665-3e8475c26adc",
   "metadata": {},
   "outputs": [
    {
     "name": "stdout",
     "output_type": "stream",
     "text": [
      "Training time in 1375.1003222465515 seconds ----\n"
     ]
    }
   ],
   "source": [
    "\n",
    "print('Training time in %s seconds ----' % (time.time()- start_time))"
   ]
  },
  {
   "cell_type": "code",
   "execution_count": 31,
   "id": "3f0973e4-6e02-497a-9cf2-7a6053218d4a",
   "metadata": {},
   "outputs": [
    {
     "data": {
      "image/png": "[encoded data removed]",
      "text/plain": [
       "<Figure size 640x480 with 1 Axes>"
      ]
     },
     "metadata": {},
     "output_type": "display_data"
    }
   ],
   "source": [
    "\n",
    "plt.plot(loss_history, label = 'training loss', color = 'r')\n",
    "plt.legend(loc = 'upper left')\n",
    "plt.show()"
   ]
  },
  {
   "cell_type": "code",
   "execution_count": 13,
   "id": "8e035217-d0b7-44b7-b1f8-0678637b94b6",
   "metadata": {},
   "outputs": [],
   "source": [
    "PATH = './cifar_net.pth'\n",
    "torch.save(net.state_dict(), PATH)"
   ]
  },
  {
   "cell_type": "code",
   "execution_count": 14,
   "id": "c84d6551-8faa-45f1-b250-61479cd6a4bd",
   "metadata": {},
   "outputs": [
    {
     "data": {
      "image/png": "[encoded data removed]",
      "text/plain": [
       "<Figure size 640x480 with 1 Axes>"
      ]
     },
     "metadata": {},
     "output_type": "display_data"
    },
    {
     "name": "stdout",
     "output_type": "stream",
     "text": [
      "GroundTruth:    cat  ship  ship plane\n"
     ]
    }
   ],
   "source": [
    "\n",
    "dataiter = iter(testloader)\n",
    "images, labels = next(dataiter)\n",
    "\n",
    "# show images and print ground-truth labels\n",
    "imshow(torchvision.utils.make_grid(images))\n",
    "print('GroundTruth: ', ' '.join('%5s' % classes[labels[j]] for j in range(4)))"
   ]
  },
  {
   "cell_type": "code",
   "execution_count": 15,
   "id": "d5e96032-5b6d-488b-8dfe-a5c40fca1a7c",
   "metadata": {},
   "outputs": [],
   "source": [
    "net = Net() #create a network\n",
    "PATH = './cifar_net.pth'\n",
    "net.load_state_dict(torch.load(PATH)) #load the trained network\n",
    "net.to(device)\n",
    "outputs = net(images.to(device)) #test the network with inputs as images"
   ]
  },
  {
   "cell_type": "code",
   "execution_count": 16,
   "id": "3ada08f3-36e2-42ab-a1ad-e9b03c5d7b2e",
   "metadata": {},
   "outputs": [
    {
     "name": "stdout",
     "output_type": "stream",
     "text": [
      "Predicted:  plane plane plane plane\n"
     ]
    }
   ],
   "source": [
    "_, predicted_labels = torch.max(outputs, 1) \n",
    " \n",
    "print('Predicted: ', ' '.join('%5s' % classes[predicted_labels[j]] \n",
    "                              for j in range(4)))"
   ]
  },
  {
   "cell_type": "code",
   "execution_count": 17,
   "id": "7b8044aa-b4d3-441c-a9b9-1d830bcebaf7",
   "metadata": {},
   "outputs": [
    {
     "name": "stdout",
     "output_type": "stream",
     "text": [
      "Recognition accuracy on the 10000 test images: 10 %\n"
     ]
    }
   ],
   "source": [
    "correct = 0 \n",
    "total = 0 \n",
    "with torch.no_grad(): \n",
    "    for data in testloader: \n",
    "        images, groundtruth_labels = data[0].to(device), data[1].to(device) \n",
    "        outputs = net(images) \n",
    "        _, predicted_labels = torch.max(outputs.data, 1) \n",
    "        total += groundtruth_labels.size(0) \n",
    "        correct += (predicted_labels == groundtruth_labels).sum().item() \n",
    "print('Recognition accuracy on the 10000 test images: %d %%' % (100 * correct / total))"
   ]
  },
  {
   "cell_type": "code",
   "execution_count": 18,
   "id": "861930b1-aeb5-40a4-83e2-3a3ecff94d64",
   "metadata": {},
   "outputs": [
    {
     "name": "stdout",
     "output_type": "stream",
     "text": [
      "Accuracy of plane : 100 %\n",
      "Accuracy of   car :  0 %\n",
      "Accuracy of  bird :  0 %\n",
      "Accuracy of   cat :  0 %\n",
      "Accuracy of  deer :  0 %\n",
      "Accuracy of   dog :  0 %\n",
      "Accuracy of  frog :  0 %\n",
      "Accuracy of horse :  0 %\n",
      "Accuracy of  ship :  0 %\n",
      "Accuracy of truck :  0 %\n"
     ]
    }
   ],
   "source": [
    "class_correct = list(0. for i in range(10)) \n",
    "class_total = list(0. for i in range(10)) \n",
    "with torch.no_grad(): \n",
    "    for data in testloader: \n",
    "        images, groundtruth_labels = data[0].to(device), data[1].to(device) \n",
    "        outputs = net(images) \n",
    "        _, predicted_labels = torch.max(outputs, 1) \n",
    "        c = (predicted_labels == groundtruth_labels).squeeze() \n",
    "        for i in range(4): \n",
    "            label = groundtruth_labels[i] \n",
    "            class_correct[label] += c[i].item() \n",
    "            class_total[label] += 1 \n",
    " \n",
    "for i in range(10): \n",
    "    print('Accuracy of %5s : %2d %%' % ( \n",
    "        classes[i], 100 * class_correct[i] / class_total[i])) "
   ]
  },
  {
   "cell_type": "code",
   "execution_count": 19,
   "id": "6efb9899-ba94-4355-9001-ef98119f5f6e",
   "metadata": {},
   "outputs": [],
   "source": [
    "from torchvision import datasets \n",
    " \n",
    "transform = transforms.Compose( \n",
    "    [transforms.Resize((32, 32)), #you can change the image size, but need to change  \n",
    "       #the architecture accordingly \n",
    "     transforms.ToTensor(), \n",
    "     transforms.Normalize((0.5, 0.5, 0.5), (0.5, 0.5, 0.5))]) \n",
    " \n",
    "trainset = datasets.ImageFolder('FoodImages/Train', transform=transform) \n",
    "testset = datasets.ImageFolder('FoodImages/Test', transform=transform) \n",
    " \n",
    "classes = ('Cakes', 'Pasta', 'Pizza') "
   ]
  },
  {
   "cell_type": "code",
   "execution_count": 20,
   "id": "d0f86328-8e0d-4a01-9074-eaf4d66cda47",
   "metadata": {},
   "outputs": [
    {
     "data": {
      "text/plain": [
       "<All keys matched successfully>"
      ]
     },
     "execution_count": 20,
     "metadata": {},
     "output_type": "execute_result"
    }
   ],
   "source": [
    "PATH = './cifar_net.pth' \n",
    "net = Net() \n",
    "net.load_state_dict(torch.load(PATH)) "
   ]
  },
  {
   "cell_type": "code",
   "execution_count": 21,
   "id": "35ca6018",
   "metadata": {},
   "outputs": [],
   "source": [
    "net.fc3 = nn.Linear(84, 3) "
   ]
  },
  {
   "cell_type": "code",
   "execution_count": 22,
   "id": "88d672e3",
   "metadata": {},
   "outputs": [
    {
     "name": "stdout",
     "output_type": "stream",
     "text": [
      "Net(\n",
      "  (conv1): Conv2d(3, 6, kernel_size=(5, 5), stride=(1, 1))\n",
      "  (pool): MaxPool2d(kernel_size=2, stride=2, padding=0, dilation=1, ceil_mode=False)\n",
      "  (conv2): Conv2d(6, 16, kernel_size=(5, 5), stride=(1, 1))\n",
      "  (fc1): Linear(in_features=400, out_features=120, bias=True)\n",
      "  (fc2): Linear(in_features=120, out_features=84, bias=True)\n",
      "  (fc3): Linear(in_features=84, out_features=3, bias=True)\n",
      ")\n"
     ]
    }
   ],
   "source": [
    "print(net) "
   ]
  },
  {
   "cell_type": "code",
   "execution_count": 24,
   "id": "49d93655",
   "metadata": {},
   "outputs": [],
   "source": [
    "#freeze parameters of conv1 \n",
    "for param in net.conv1.parameters(): \n",
    "    param.requires_grad = False "
   ]
  },
  {
   "cell_type": "code",
   "execution_count": 25,
   "id": "e5cfd306",
   "metadata": {},
   "outputs": [],
   "source": [
    "#update the optimizer \n",
    "optimizer = optim.AdamW(filter(lambda p: p.requires_grad, net.parameters()), lr=0.0005)"
   ]
  },
  {
   "cell_type": "code",
   "execution_count": 26,
   "id": "ea50ded8",
   "metadata": {},
   "outputs": [
    {
     "name": "stdout",
     "output_type": "stream",
     "text": [
      "Parameter containing:\n",
      "tensor([[[[-0.0538, -0.1036,  0.0961,  0.0797,  0.0274],\n",
      "          [-0.0797,  0.1042, -0.0873, -0.0573, -0.0042],\n",
      "          [ 0.0680, -0.0077,  0.0071,  0.0673, -0.0658],\n",
      "          [ 0.0083, -0.0577,  0.0837, -0.0512,  0.0525],\n",
      "          [-0.0647,  0.0718,  0.1078,  0.0607,  0.0956]],\n",
      "\n",
      "         [[-0.0821, -0.0854, -0.0591,  0.0536,  0.0592],\n",
      "          [ 0.0595, -0.0793,  0.0707,  0.0885, -0.0841],\n",
      "          [-0.0163, -0.0444,  0.0345,  0.0612,  0.0017],\n",
      "          [-0.0493,  0.0298,  0.0256,  0.0223,  0.0730],\n",
      "          [-0.0898,  0.0531,  0.0390,  0.0004, -0.0470]],\n",
      "\n",
      "         [[ 0.0674, -0.0567, -0.0055,  0.0787,  0.0269],\n",
      "          [ 0.0689, -0.0202, -0.0426, -0.1086, -0.1114],\n",
      "          [-0.0813, -0.1123, -0.0329, -0.0058,  0.1059],\n",
      "          [ 0.0388,  0.0938,  0.0645, -0.0653,  0.0530],\n",
      "          [ 0.1015,  0.1080,  0.1091, -0.0913,  0.0462]]],\n",
      "\n",
      "\n",
      "        [[[ 0.1095, -0.0090, -0.0068,  0.1030, -0.0506],\n",
      "          [-0.0886,  0.0042,  0.0960, -0.1091,  0.0172],\n",
      "          [ 0.0124,  0.0765, -0.0541,  0.0560,  0.1053],\n",
      "          [ 0.1041, -0.1035,  0.0530, -0.1089, -0.0715],\n",
      "          [ 0.0481,  0.0571, -0.0691,  0.0791, -0.0309]],\n",
      "\n",
      "         [[ 0.0150,  0.0964,  0.0973,  0.0762, -0.1132],\n",
      "          [-0.0155, -0.0772, -0.0555, -0.0181, -0.0193],\n",
      "          [-0.0149, -0.0350, -0.0193,  0.0596, -0.0306],\n",
      "          [-0.0609,  0.1095,  0.0318, -0.0704, -0.0615],\n",
      "          [ 0.1035,  0.0056, -0.0806,  0.0252, -0.0873]],\n",
      "\n",
      "         [[-0.0700, -0.0251, -0.1109,  0.0675, -0.0604],\n",
      "          [-0.0463,  0.1058,  0.0242, -0.0058, -0.0679],\n",
      "          [ 0.0371,  0.0377, -0.0576, -0.0244,  0.1047],\n",
      "          [-0.0839,  0.1067,  0.0910,  0.0756, -0.0042],\n",
      "          [ 0.0083,  0.0540, -0.0080,  0.0660,  0.0887]]],\n",
      "\n",
      "\n",
      "        [[[-0.0949, -0.0515, -0.1121, -0.0146, -0.0380],\n",
      "          [ 0.0241, -0.1009,  0.1070,  0.1100, -0.0028],\n",
      "          [-0.0027, -0.0586,  0.0687,  0.0573,  0.0505],\n",
      "          [ 0.0816,  0.0449, -0.0427,  0.1004,  0.0468],\n",
      "          [ 0.0720, -0.0133, -0.0386, -0.0975,  0.1020]],\n",
      "\n",
      "         [[-0.0981, -0.0772, -0.0332, -0.0684, -0.0371],\n",
      "          [-0.0346,  0.1074, -0.0017,  0.0268, -0.0600],\n",
      "          [ 0.0848, -0.0909,  0.0949, -0.0292,  0.0596],\n",
      "          [-0.0966, -0.0550, -0.0067, -0.0971, -0.1081],\n",
      "          [-0.1066, -0.0600,  0.0771, -0.0600,  0.0379]],\n",
      "\n",
      "         [[-0.0620,  0.0918,  0.1057,  0.0540, -0.0891],\n",
      "          [-0.0942, -0.0849,  0.0359, -0.0006, -0.0985],\n",
      "          [-0.0950, -0.0162, -0.0302,  0.0829, -0.0657],\n",
      "          [ 0.0070,  0.0608,  0.0760,  0.0149,  0.0664],\n",
      "          [-0.0043, -0.0321, -0.0334, -0.0990,  0.1136]]],\n",
      "\n",
      "\n",
      "        [[[ 0.0256, -0.0237,  0.0362,  0.0993, -0.0816],\n",
      "          [-0.0147, -0.0854,  0.0559, -0.0541, -0.1021],\n",
      "          [ 0.0899,  0.0152, -0.0784,  0.0824, -0.1054],\n",
      "          [-0.0829,  0.0785,  0.0717,  0.0096, -0.0644],\n",
      "          [ 0.0020,  0.0535, -0.0097,  0.0401, -0.0668]],\n",
      "\n",
      "         [[ 0.0457,  0.0813, -0.0966,  0.0083, -0.0349],\n",
      "          [ 0.0997, -0.0610,  0.0459,  0.0533,  0.0998],\n",
      "          [ 0.0394, -0.0898,  0.0823, -0.0253,  0.0134],\n",
      "          [ 0.0030,  0.0902, -0.0505, -0.0139, -0.0380],\n",
      "          [ 0.0707, -0.0276, -0.0588,  0.1090, -0.0938]],\n",
      "\n",
      "         [[-0.0388, -0.0392, -0.0597,  0.0920,  0.0163],\n",
      "          [-0.0262, -0.0177, -0.0407,  0.0352, -0.0954],\n",
      "          [-0.0871, -0.0649,  0.0220, -0.0581, -0.0155],\n",
      "          [-0.0086,  0.0583, -0.0135, -0.0094, -0.0843],\n",
      "          [-0.0002,  0.0821,  0.0742,  0.0609, -0.0674]]],\n",
      "\n",
      "\n",
      "        [[[-0.0499, -0.0375, -0.0203,  0.0944,  0.0261],\n",
      "          [-0.0671,  0.0935,  0.0025, -0.0443,  0.0127],\n",
      "          [-0.0176, -0.0363, -0.0996, -0.0478,  0.0486],\n",
      "          [-0.0890, -0.1017,  0.0731,  0.0263, -0.0707],\n",
      "          [-0.0008,  0.0472, -0.0310, -0.1011,  0.0074]],\n",
      "\n",
      "         [[-0.0670,  0.0679,  0.0366, -0.0035, -0.0590],\n",
      "          [ 0.0831,  0.0456,  0.1026,  0.0537, -0.0539],\n",
      "          [ 0.0772, -0.0626, -0.1003, -0.0690,  0.0451],\n",
      "          [ 0.0871, -0.0270,  0.0555, -0.0974,  0.0550],\n",
      "          [-0.0804, -0.1087,  0.1024,  0.0497,  0.0435]],\n",
      "\n",
      "         [[-0.0359, -0.0709, -0.0708, -0.0666,  0.0017],\n",
      "          [-0.0229,  0.0305, -0.1030, -0.1122,  0.0728],\n",
      "          [-0.0465,  0.0109,  0.0738,  0.0914, -0.0461],\n",
      "          [ 0.0655, -0.0101,  0.0478,  0.0222,  0.0118],\n",
      "          [ 0.0188,  0.0425,  0.0205,  0.0053,  0.1151]]],\n",
      "\n",
      "\n",
      "        [[[ 0.0081,  0.0177, -0.0623, -0.0711,  0.0207],\n",
      "          [ 0.0710, -0.0022, -0.0908,  0.0530,  0.0637],\n",
      "          [-0.0561,  0.1031, -0.0620,  0.0206,  0.0475],\n",
      "          [-0.0556,  0.0674, -0.0050, -0.1067,  0.0685],\n",
      "          [ 0.0263, -0.0142,  0.1063,  0.0154, -0.0102]],\n",
      "\n",
      "         [[ 0.0021, -0.0788, -0.0756,  0.0134,  0.0961],\n",
      "          [ 0.1078,  0.0507, -0.0245,  0.0586, -0.0143],\n",
      "          [ 0.0548, -0.0371,  0.0401,  0.0819,  0.0664],\n",
      "          [ 0.0789,  0.0453,  0.0989, -0.0506,  0.0987],\n",
      "          [-0.0096,  0.0266, -0.0830,  0.0852, -0.0730]],\n",
      "\n",
      "         [[-0.0526, -0.0226,  0.0713,  0.0423, -0.0952],\n",
      "          [-0.0048, -0.0135,  0.0270, -0.0255,  0.0806],\n",
      "          [ 0.0111,  0.0199, -0.0336, -0.0903, -0.0338],\n",
      "          [-0.1027,  0.0146, -0.0906, -0.1049,  0.0987],\n",
      "          [ 0.1008,  0.0587,  0.0062, -0.0563, -0.0722]]]])\n",
      "Parameter containing:\n",
      "tensor([ 0.1078, -0.1103, -0.0009,  0.0129,  0.1006,  0.0580])\n"
     ]
    }
   ],
   "source": [
    "print(net.conv1.weight) \n",
    "print(net.conv1.bias) "
   ]
  },
  {
   "cell_type": "code",
   "execution_count": null,
   "id": "7438ea18",
   "metadata": {},
   "outputs": [],
   "source": []
  }
 ],
 "metadata": {
  "kernelspec": {
   "display_name": "base",
   "language": "python",
   "name": "python3"
  },
  "language_info": {
   "codemirror_mode": {
    "name": "ipython",
    "version": 3
   },
   "file_extension": ".py",
   "mimetype": "text/x-python",
   "name": "python",
   "nbconvert_exporter": "python",
   "pygments_lexer": "ipython3",
   "version": "3.12.4"
  }
 },
 "nbformat": 4,
 "nbformat_minor": 5
}

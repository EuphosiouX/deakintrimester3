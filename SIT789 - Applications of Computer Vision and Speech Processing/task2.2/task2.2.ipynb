{
 "cells": [
  {
   "cell_type": "code",
   "execution_count": 2,
   "id": "13217489-01d2-4439-bf1a-bc92a061bcbf",
   "metadata": {},
   "outputs": [],
   "source": [
    "import numpy as np \n",
    "import cv2 as cv \n",
    "from matplotlib import pyplot as plt \n",
    "\n",
    "img = cv.imread('fisherman.jpg') #load image \n",
    "img_gray = cv.cvtColor(img, cv.COLOR_BGR2GRAY) "
   ]
  },
  {
   "cell_type": "code",
   "execution_count": 3,
   "id": "aa65a05a-9fcb-4389-a793-3a2568164658",
   "metadata": {},
   "outputs": [],
   "source": [
    "height, width = img_gray.shape \n",
    "ori_img_gray = np.zeros((height, width), np.float32) # gradient orientation of img_gray"
   ]
  },
  {
   "cell_type": "code",
   "execution_count": null,
   "id": "5bc45e5a-a6fc-4bbf-bae5-6631528be670",
   "metadata": {},
   "outputs": [],
   "source": []
  }
 ],
 "metadata": {
  "kernelspec": {
   "display_name": "Python [conda env:base] *",
   "language": "python",
   "name": "conda-base-py"
  },
  "language_info": {
   "codemirror_mode": {
    "name": "ipython",
    "version": 3
   },
   "file_extension": ".py",
   "mimetype": "text/x-python",
   "name": "python",
   "nbconvert_exporter": "python",
   "pygments_lexer": "ipython3",
   "version": "3.12.7"
  }
 },
 "nbformat": 4,
 "nbformat_minor": 5
}

{
 "cells": [
  {
   "cell_type": "code",
   "execution_count": null,
   "id": "5fd84b68-0139-4b26-b913-022b97fd82b1",
   "metadata": {},
   "outputs": [],
   "source": []
  }
 ],
 "metadata": {
  "kernelspec": {
   "display_name": "",
   "name": ""
  },
  "language_info": {
   "name": ""
  }
 },
 "nbformat": 4,
 "nbformat_minor": 5
}

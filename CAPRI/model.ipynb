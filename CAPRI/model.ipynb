{
 "cells": [
  {
   "cell_type": "code",
   "execution_count": 12,
   "id": "a7a05cf1",
   "metadata": {},
   "outputs": [
    {
     "name": "stdout",
     "output_type": "stream",
     "text": [
      "       date  pm25  pm10   o3  no2  so2  co\n",
      "0  2025/8/1    27    13   13   13        3\n",
      "1  2025/8/2    32    20   16   12        4\n",
      "2  2025/8/3    51    11   22    8        1\n",
      "3  2025/8/4    18    12   22    6         \n",
      "4  2025/8/5     8    14   18   10        1\n",
      "<class 'pandas.core.frame.DataFrame'>\n",
      "RangeIndex: 3859 entries, 0 to 3858\n",
      "Data columns (total 7 columns):\n",
      " #   Column  Non-Null Count  Dtype \n",
      "---  ------  --------------  ----- \n",
      " 0   date    3859 non-null   object\n",
      " 1    pm25   3859 non-null   object\n",
      " 2    pm10   3859 non-null   object\n",
      " 3    o3     3859 non-null   object\n",
      " 4    no2    3859 non-null   object\n",
      " 5    so2    3859 non-null   object\n",
      " 6    co     3859 non-null   object\n",
      "dtypes: object(7)\n",
      "memory usage: 211.2+ KB\n",
      "None\n",
      "LinearRegression - MSE: 62.46, R2: 0.13\n",
      "RandomForest - MSE: 59.23, R2: 0.17\n",
      "RandomForest - MSE: 59.23, R2: 0.17\n",
      "GradientBoosting - MSE: 57.62, R2: 0.19\n",
      "LinearRegression predicted future pm25: 21.20\n",
      "RandomForest predicted future pm25: 15.77\n",
      "GradientBoosting predicted future pm25: 19.82\n",
      "GradientBoosting - MSE: 57.62, R2: 0.19\n",
      "LinearRegression predicted future pm25: 21.20\n",
      "RandomForest predicted future pm25: 15.77\n",
      "GradientBoosting predicted future pm25: 19.82\n"
     ]
    },
    {
     "name": "stderr",
     "output_type": "stream",
     "text": [
      "c:\\Users\\micha\\anaconda3\\Lib\\site-packages\\sklearn\\base.py:493: UserWarning: X does not have valid feature names, but StandardScaler was fitted with feature names\n",
      "  warnings.warn(\n"
     ]
    }
   ],
   "source": [
    "import pandas as pd\n",
    "import numpy as np\n",
    "from sklearn.ensemble import RandomForestRegressor, GradientBoostingRegressor\n",
    "from sklearn.linear_model import LinearRegression\n",
    "from sklearn.metrics import mean_squared_error, r2_score\n",
    "from sklearn.preprocessing import StandardScaler\n",
    "from sklearn.model_selection import train_test_split\n",
    "\n",
    "# 1. Load Data\n",
    "df = pd.read_csv(\"datasets/box-hill-air-quality.csv\")\n",
    "\n",
    "# 2. Inspect Data\n",
    "print(df.head())\n",
    "print(df.info())\n",
    "\n",
    "# 3. Preprocess Data\n",
    "# Convert date to datetime\n",
    "df['date'] = pd.to_datetime(df['date'])\n",
    "\n",
    "# Fill missing values with column mean\n",
    "for col in [' pm25', ' pm10', ' o3', ' no2', ' so2', ' co']:\n",
    "    df[col] = pd.to_numeric(df[col], errors='coerce')\n",
    "    df[col] = df[col].fillna(df[col].mean())\n",
    "\n",
    "# 4. Create lag features for time series prediction\n",
    "# Predict pm25 for next day using previous 3 days\n",
    "for lag in range(1, 4):\n",
    "    df[f'pm25_lag{lag}'] = df[' pm25'].shift(lag)\n",
    "\n",
    "df = df.dropna()  # Drop rows with NaN after shifting\n",
    "\n",
    "features = [f'pm25_lag{lag}' for lag in range(1, 4)] + [' pm10', ' o3', ' no2', ' so2', ' co']\n",
    "target = ' pm25'\n",
    "\n",
    "X = df[features]\n",
    "y = df[target]\n",
    "\n",
    "# 5. Split Data\n",
    "X_train, X_test, y_train, y_test = train_test_split(X, y, test_size=0.2, shuffle=False)\n",
    "\n",
    "# 6. Scale Features\n",
    "scaler = StandardScaler()\n",
    "X_train_scaled = scaler.fit_transform(X_train)\n",
    "X_test_scaled = scaler.transform(X_test)\n",
    "\n",
    "# 7. Train and Compare Models\n",
    "models = {\n",
    "    'LinearRegression': LinearRegression(),\n",
    "    'RandomForest': RandomForestRegressor(random_state=42),\n",
    "    'GradientBoosting': GradientBoostingRegressor(random_state=42)\n",
    "}\n",
    "\n",
    "for name, model in models.items():\n",
    "    model.fit(X_train_scaled, y_train)\n",
    "    y_pred = model.predict(X_test_scaled)\n",
    "    mse = mean_squared_error(y_test, y_pred)\n",
    "    r2 = r2_score(y_test, y_pred)\n",
    "    print(f\"{name} - MSE: {mse:.2f}, R2: {r2:.2f}\")\n",
    "\n",
    "# 8. Predict Future pm25 with Each Model\n",
    "last_row = df.iloc[-1]\n",
    "future_features = [last_row[f'pm25_lag{lag}'] for lag in range(1, 4)] + [last_row[' pm10'], last_row[' o3'], last_row[' no2'], last_row[' so2'], last_row[' co']]\n",
    "future_features_scaled = scaler.transform([future_features])\n",
    "for name, model in models.items():\n",
    "    future_pm25 = model.predict(future_features_scaled)\n",
    "    print(f\"{name} predicted future pm25: {future_pm25[0]:.2f}\")"
   ]
  },
  {
   "cell_type": "code",
   "execution_count": 8,
   "id": "699dbc20",
   "metadata": {},
   "outputs": [
    {
     "name": "stdout",
     "output_type": "stream",
     "text": [
      "Index(['date', ' pm25', ' pm10', ' o3', ' no2', ' so2', ' co'], dtype='object')\n"
     ]
    }
   ],
   "source": [
    "print(df.columns)"
   ]
  }
 ],
 "metadata": {
  "kernelspec": {
   "display_name": "base",
   "language": "python",
   "name": "python3"
  },
  "language_info": {
   "codemirror_mode": {
    "name": "ipython",
    "version": 3
   },
   "file_extension": ".py",
   "mimetype": "text/x-python",
   "name": "python",
   "nbconvert_exporter": "python",
   "pygments_lexer": "ipython3",
   "version": "3.12.7"
  }
 },
 "nbformat": 4,
 "nbformat_minor": 5
}

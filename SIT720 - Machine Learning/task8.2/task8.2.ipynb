{
 "cells": [
  {
   "cell_type": "code",
   "execution_count": 8,
   "id": "13a658ec",
   "metadata": {},
   "outputs": [],
   "source": [
    "from bs4 import BeautifulSoup\n",
    "import requests"
   ]
  },
  {
   "cell_type": "code",
   "execution_count": 9,
   "id": "907a2a2d",
   "metadata": {},
   "outputs": [],
   "source": [
    "def readLink(link):\n",
    "    headers = {'Accept-Language': 'en-US,en;q=0.8'}\n",
    "    url = link\n",
    "    response = requests.get(url,headers=headers)\n",
    "    soup = BeautifulSoup(response.text, \"html\")\n",
    "    return soup"
   ]
  },
  {
   "cell_type": "code",
   "execution_count": 11,
   "id": "bc5def62",
   "metadata": {},
   "outputs": [
    {
     "name": "stdout",
     "output_type": "stream",
     "text": [
      "<html>\n",
      "<head>\n",
      "<title>realestate.com.au - 403 Error - Permission Denied</title>\n",
      "</head>\n",
      "<body>\n",
      "<hr color=\"#e4002b\"/>\n",
      "<br/>\n",
      "           <img alt=\"realestate.com.au Australia lives here\" src=\"//s1.rui.au.reastatic.net/rui-static/img/rea-logo-v3.png\" width=\"200px\"/>\n",
      "<font face=\"Helvetica\">\n",
      "<h1>  403 - Permission Denied</h1>\n",
      "<p>\n",
      "                You do not have permission to retrieve the URL or link you requested,\n",
      "            <br/><br/>\n",
      "                If you think this was a mistake please call <b>1300 134 174</b> or e-mail <b>customercare@realestate.com.au</b>\n",
      "<br/>\n",
      "                and quote the reference number <b> #18.2d4ddc17.1756714380.10ee6a59</b>\n",
      "</p></font>\n",
      "</body>\n",
      "</html>\n",
      "\n"
     ]
    }
   ],
   "source": [
    "test = readLink('https://www.realestate.com.au/sold/in-3216/list-1')\n",
    "print(test)"
   ]
  }
 ],
 "metadata": {
  "kernelspec": {
   "display_name": "base",
   "language": "python",
   "name": "python3"
  },
  "language_info": {
   "codemirror_mode": {
    "name": "ipython",
    "version": 3
   },
   "file_extension": ".py",
   "mimetype": "text/x-python",
   "name": "python",
   "nbconvert_exporter": "python",
   "pygments_lexer": "ipython3",
   "version": "3.12.7"
  }
 },
 "nbformat": 4,
 "nbformat_minor": 5
}

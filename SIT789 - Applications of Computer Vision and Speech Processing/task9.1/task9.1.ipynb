{
 "cells": [
  {
   "cell_type": "code",
   "execution_count": 2,
   "id": "e13ebd2e",
   "metadata": {},
   "outputs": [],
   "source": [
    "from ibm_watson import SpeechToTextV1 \n",
    "from ibm_cloud_sdk_core.authenticators import IAMAuthenticator "
   ]
  },
  {
   "cell_type": "code",
   "execution_count": 3,
   "id": "ced69510",
   "metadata": {},
   "outputs": [],
   "source": [
    "authenticator = IAMAuthenticator('S70otibjrperPn-DopMrMk8M4qGlpzyPeaQ6h8Wf3E4z') #replace {APIkey} by your API key \n",
    "speech_to_text = SpeechToTextV1(authenticator=authenticator) \n",
    "speech_to_text.set_service_url('https://api.au-syd.speech-to-text.watson.cloud.ibm.com/instances/0fe58b5f-30de-4c26-adae-b61582f6d2a5') #replace {url} by your URL "
   ]
  },
  {
   "cell_type": "code",
   "execution_count": 11,
   "id": "86a968a4",
   "metadata": {},
   "outputs": [
    {
     "name": "stdout",
     "output_type": "stream",
     "text": [
      "{\n",
      "  \"result_index\": 0,\n",
      "  \"results\": [\n",
      "    {\n",
      "      \"final\": true,\n",
      "      \"alternatives\": [\n",
      "        {\n",
      "          \"transcript\": \"they were described as being in a serious but stable condition yesterday \",\n",
      "          \"confidence\": 0.94\n",
      "        }\n",
      "      ]\n",
      "    }\n",
      "  ]\n",
      "}\n"
     ]
    }
   ],
   "source": [
    "import json \n",
    "with open('SpeechtoTextData/p232_030.wav', 'rb') as audio_file: \n",
    "    speech_recognition_results = speech_to_text.recognize( \n",
    "        audio = audio_file, \n",
    "        content_type='audio/wav').get_result() \n",
    "print(json.dumps(speech_recognition_results, indent = 2))"
   ]
  },
  {
   "cell_type": "code",
   "execution_count": 12,
   "id": "6cd8eccc",
   "metadata": {},
   "outputs": [
    {
     "name": "stdout",
     "output_type": "stream",
     "text": [
      "{\n",
      "  \"result_index\": 0,\n",
      "  \"results\": [\n",
      "    {\n",
      "      \"final\": true,\n",
      "      \"alternatives\": [\n",
      "        {\n",
      "          \"transcript\": \"a book could be written about this restaurant and then all would not be told for all its secrets can never be known \",\n",
      "          \"confidence\": 0.92\n",
      "        }\n",
      "      ]\n",
      "    }\n",
      "  ]\n",
      "}\n"
     ]
    }
   ],
   "source": [
    "import json \n",
    "with open('SpeechtoTextData/367-130732-0004.flac', 'rb') as audio_file: \n",
    "    speech_recognition_results = speech_to_text.recognize( \n",
    "        audio = audio_file, \n",
    "        content_type='audio/flac').get_result() \n",
    "print(json.dumps(speech_recognition_results, indent = 2))"
   ]
  }
 ],
 "metadata": {
  "kernelspec": {
   "display_name": "base",
   "language": "python",
   "name": "python3"
  },
  "language_info": {
   "codemirror_mode": {
    "name": "ipython",
    "version": 3
   },
   "file_extension": ".py",
   "mimetype": "text/x-python",
   "name": "python",
   "nbconvert_exporter": "python",
   "pygments_lexer": "ipython3",
   "version": "3.12.3"
  }
 },
 "nbformat": 4,
 "nbformat_minor": 5
}

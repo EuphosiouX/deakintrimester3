{
 "cells": [
  {
   "cell_type": "code",
   "execution_count": 15,
   "id": "b3c9a202",
   "metadata": {},
   "outputs": [],
   "source": [
    "import numpy as np \n",
    "import cv2 as cv \n",
    "from sklearn.cluster import KMeans \n",
    " \n",
    "class Dictionary(object): \n",
    "    def __init__(self, name, img_filenames, num_words): \n",
    "        self.name = name #name of your dictionary \n",
    "        self.img_filenames = img_filenames #list of image filenames \n",
    "        self.num_words = num_words #the number of words \n",
    "         \n",
    "        self.training_data = [] #training data used to learn clusters \n",
    "        self.words = [] #list of words, which are the centroids of clusters \n",
    "     \n",
    "    def learn(self): \n",
    "        sift = cv.SIFT_create() \n",
    "         \n",
    "        num_keypoints = [] #used to store the number of keypoints in each image \n",
    "         \n",
    "        #load training images and compute SIFT descriptors \n",
    "        for filename in self.img_filenames: \n",
    "            img = cv.imread(filename) \n",
    "            img_gray = cv.cvtColor(img, cv.COLOR_BGR2GRAY) \n",
    "            list_des = sift.detectAndCompute(img_gray, None)[1] \n",
    "            if list_des is None: \n",
    "                num_keypoints.append(0) \n",
    "            else: \n",
    "                num_keypoints.append(len(list_des)) \n",
    "                for des in list_des: \n",
    "                    self.training_data.append(des) \n",
    "             \n",
    "        #cluster SIFT descriptors using K-means algorithm \n",
    "        kmeans = KMeans(self.num_words) \n",
    "        kmeans.fit(self.training_data) \n",
    "        self.words = kmeans.cluster_centers_ \n",
    "         \n",
    "        #create word histograms for training images \n",
    "        training_word_histograms = [] #list of word histograms of all training images \n",
    "        index = 0 \n",
    "        for i in range(0, len(self.img_filenames)): #for each file, create a histogram \n",
    "            histogram = np.zeros(self.num_words, np.float32) \n",
    "            #if some keypoints exist \n",
    "            if num_keypoints[i] > 0: \n",
    "                for j in range(0, num_keypoints[i]): \n",
    "                    histogram[kmeans.labels_[j + index]] += 1 \n",
    "                index += num_keypoints[i] \n",
    "                histogram /= num_keypoints[i] \n",
    "                training_word_histograms.append(histogram) \n",
    "         \n",
    "        return training_word_histograms\n",
    "    \n",
    "    def create_word_histograms(self, img_filenames): \n",
    "        sift = cv.SIFT_create() \n",
    "        histograms = [] \n",
    "         \n",
    "        for filename in img_filenames: \n",
    "            img = cv.imread(filename) \n",
    "            img_gray = cv.cvtColor(img, cv.COLOR_BGR2GRAY) \n",
    "            descriptors = sift.detectAndCompute(img_gray, None)[1] \n",
    "         \n",
    "            histogram = np.zeros(self.num_words, np.float32) #word histogram  \n",
    "         \n",
    "            if descriptors is not None: \n",
    "                for des in descriptors: \n",
    "                    #find the best matching word \n",
    "                    min_distance = 1111111 #this can be any large number \n",
    "                    matching_word_ID = -1 #initialise ID with an impractical value \n",
    "                     \n",
    "                    for i in range(0, self.num_words): #find the best matching word \n",
    "                        distance = np.linalg.norm(des - self.words[i]) \n",
    "                        if distance < min_distance: \n",
    "                            min_distance = distance \n",
    "                            matching_word_ID = i \n",
    "                     \n",
    "                    histogram[matching_word_ID] += 1 \n",
    "                 \n",
    "                histogram /= len(descriptors) #make histogram a prob distribution \n",
    "         \n",
    "            histograms.append(histogram) \n",
    "         \n",
    "        return histograms "
   ]
  },
  {
   "cell_type": "code",
   "execution_count": 16,
   "id": "622c304e",
   "metadata": {},
   "outputs": [
    {
     "name": "stdout",
     "output_type": "stream",
     "text": [
      "['FoodImages/Train/Cakes/cake1.png', 'FoodImages/Train/Cakes/cake10.jpg', 'FoodImages/Train/Cakes/cake11.jpg', 'FoodImages/Train/Cakes/cake12.jpg', 'FoodImages/Train/Cakes/cake13.jpg', 'FoodImages/Train/Cakes/cake14.jpg', 'FoodImages/Train/Cakes/cake15.jpg', 'FoodImages/Train/Cakes/cake16.jpg', 'FoodImages/Train/Cakes/cake17.jpg', 'FoodImages/Train/Cakes/cake18.jpg', 'FoodImages/Train/Cakes/cake19.jpg', 'FoodImages/Train/Cakes/cake2.png', 'FoodImages/Train/Cakes/cake20.jpg', 'FoodImages/Train/Cakes/cake21.jpg', 'FoodImages/Train/Cakes/cake22.jpg', 'FoodImages/Train/Cakes/cake23.jpg', 'FoodImages/Train/Cakes/cake24.jpg', 'FoodImages/Train/Cakes/cake25.jpg', 'FoodImages/Train/Cakes/cake26.jpg', 'FoodImages/Train/Cakes/cake27.jpg', 'FoodImages/Train/Cakes/cake28.jpg', 'FoodImages/Train/Cakes/cake29.jpg', 'FoodImages/Train/Cakes/cake3.png', 'FoodImages/Train/Cakes/cake30.jpg', 'FoodImages/Train/Cakes/cake4.jpg', 'FoodImages/Train/Cakes/cake5.jpg', 'FoodImages/Train/Cakes/cake6.jpg', 'FoodImages/Train/Cakes/cake7.jpg', 'FoodImages/Train/Cakes/cake8.jpg', 'FoodImages/Train/Cakes/cake9.jpg', 'FoodImages/Train/Pasta/pasta1.jpg', 'FoodImages/Train/Pasta/pasta10.jpg', 'FoodImages/Train/Pasta/pasta11.jpg', 'FoodImages/Train/Pasta/pasta12.jpg', 'FoodImages/Train/Pasta/pasta13.jpg', 'FoodImages/Train/Pasta/pasta14.jpg', 'FoodImages/Train/Pasta/pasta15.jpg', 'FoodImages/Train/Pasta/pasta16.jpg', 'FoodImages/Train/Pasta/pasta17.jpg', 'FoodImages/Train/Pasta/pasta18.jpg', 'FoodImages/Train/Pasta/pasta19.jpg', 'FoodImages/Train/Pasta/pasta2.jpg', 'FoodImages/Train/Pasta/pasta20.jpg', 'FoodImages/Train/Pasta/pasta21.png', 'FoodImages/Train/Pasta/pasta22.png', 'FoodImages/Train/Pasta/pasta23.png', 'FoodImages/Train/Pasta/pasta24.png', 'FoodImages/Train/Pasta/pasta25.png', 'FoodImages/Train/Pasta/pasta26.png', 'FoodImages/Train/Pasta/pasta27.png', 'FoodImages/Train/Pasta/pasta28.png', 'FoodImages/Train/Pasta/pasta29.jpg', 'FoodImages/Train/Pasta/pasta3.jpg', 'FoodImages/Train/Pasta/pasta30.jpg', 'FoodImages/Train/Pasta/pasta4.jpg', 'FoodImages/Train/Pasta/pasta5.jpg', 'FoodImages/Train/Pasta/pasta6.jpg', 'FoodImages/Train/Pasta/pasta7.jpg', 'FoodImages/Train/Pasta/pasta8.jpg', 'FoodImages/Train/Pasta/pasta9.jpg', 'FoodImages/Train/Pizza/pizza1.png', 'FoodImages/Train/Pizza/pizza10.jpg', 'FoodImages/Train/Pizza/pizza11.jpg', 'FoodImages/Train/Pizza/pizza12.jpg', 'FoodImages/Train/Pizza/pizza13.jpg', 'FoodImages/Train/Pizza/pizza14.jpg', 'FoodImages/Train/Pizza/pizza15.jpg', 'FoodImages/Train/Pizza/pizza16.jpg', 'FoodImages/Train/Pizza/pizza17.jpg', 'FoodImages/Train/Pizza/pizza18.jpg', 'FoodImages/Train/Pizza/pizza19.jpg', 'FoodImages/Train/Pizza/pizza2.jpg', 'FoodImages/Train/Pizza/pizza20.jpg', 'FoodImages/Train/Pizza/pizza21.jpg', 'FoodImages/Train/Pizza/pizza22.jpg', 'FoodImages/Train/Pizza/pizza23.jpg', 'FoodImages/Train/Pizza/pizza24.jpg', 'FoodImages/Train/Pizza/pizza25.jpg', 'FoodImages/Train/Pizza/pizza26.jpg', 'FoodImages/Train/Pizza/pizza27.jpg', 'FoodImages/Train/Pizza/pizza28.jpg', 'FoodImages/Train/Pizza/pizza29.jpg', 'FoodImages/Train/Pizza/pizza3.jpg', 'FoodImages/Train/Pizza/pizza30.jpg', 'FoodImages/Train/Pizza/pizza4.jpg', 'FoodImages/Train/Pizza/pizza5.jpg', 'FoodImages/Train/Pizza/pizza6.jpg', 'FoodImages/Train/Pizza/pizza7.jpg', 'FoodImages/Train/Pizza/pizza8.jpg', 'FoodImages/Train/Pizza/pizza9.jpg']\n",
      "[0, 0, 0, 0, 0, 0, 0, 0, 0, 0, 0, 0, 0, 0, 0, 0, 0, 0, 0, 0, 0, 0, 0, 0, 0, 0, 0, 0, 0, 0, 1, 1, 1, 1, 1, 1, 1, 1, 1, 1, 1, 1, 1, 1, 1, 1, 1, 1, 1, 1, 1, 1, 1, 1, 1, 1, 1, 1, 1, 1, 2, 2, 2, 2, 2, 2, 2, 2, 2, 2, 2, 2, 2, 2, 2, 2, 2, 2, 2, 2, 2, 2, 2, 2, 2, 2, 2, 2, 2, 2]\n"
     ]
    }
   ],
   "source": [
    "import os \n",
    " \n",
    "foods = ['Cakes', 'Pasta', 'Pizza'] \n",
    "path = 'FoodImages/' \n",
    "training_file_names = [] \n",
    "training_food_labels = [] \n",
    "for i in range(0, len(foods)): \n",
    "    sub_path = path + 'Train/' + foods[i] + '/' \n",
    "    sub_file_names = [os.path.join(sub_path, f) for f in os.listdir(sub_path)] \n",
    "    sub_food_labels = [i] * len(sub_file_names) #create a list of N elements, all are i \n",
    "    training_file_names += sub_file_names \n",
    "    training_food_labels += sub_food_labels \n",
    "     \n",
    "print(training_file_names) \n",
    "print(training_food_labels)"
   ]
  },
  {
   "cell_type": "code",
   "execution_count": 17,
   "id": "8534ded6",
   "metadata": {},
   "outputs": [],
   "source": [
    "num_words = 50 \n",
    "dictionary_name = 'food' \n",
    "dictionary = Dictionary(dictionary_name, training_file_names, num_words) "
   ]
  },
  {
   "cell_type": "code",
   "execution_count": 18,
   "id": "b562af37",
   "metadata": {},
   "outputs": [],
   "source": [
    "training_word_histograms = dictionary.learn()"
   ]
  },
  {
   "cell_type": "code",
   "execution_count": 19,
   "id": "0f910b23",
   "metadata": {},
   "outputs": [],
   "source": [
    "import pickle \n",
    "#save dictionary \n",
    "with open('food_dictionary.dic', 'wb') as f: #'wb' is for binary write \n",
    "    pickle.dump(dictionary, f)"
   ]
  },
  {
   "cell_type": "code",
   "execution_count": 20,
   "id": "9a098f11",
   "metadata": {},
   "outputs": [],
   "source": [
    "with open('food_dictionary.dic', 'rb') as f: #'rb' is for binary read \n",
    "    dictionary = pickle.load(f) "
   ]
  },
  {
   "cell_type": "markdown",
   "id": "85d4cc6b",
   "metadata": {},
   "source": [
    "# KNN"
   ]
  },
  {
   "cell_type": "code",
   "execution_count": 21,
   "id": "369c8e27",
   "metadata": {},
   "outputs": [
    {
     "data": {
      "text/html": [
       "<style>#sk-container-id-2 {\n",
       "  /* Definition of color scheme common for light and dark mode */\n",
       "  --sklearn-color-text: black;\n",
       "  --sklearn-color-line: gray;\n",
       "  /* Definition of color scheme for unfitted estimators */\n",
       "  --sklearn-color-unfitted-level-0: #fff5e6;\n",
       "  --sklearn-color-unfitted-level-1: #f6e4d2;\n",
       "  --sklearn-color-unfitted-level-2: #ffe0b3;\n",
       "  --sklearn-color-unfitted-level-3: chocolate;\n",
       "  /* Definition of color scheme for fitted estimators */\n",
       "  --sklearn-color-fitted-level-0: #f0f8ff;\n",
       "  --sklearn-color-fitted-level-1: #d4ebff;\n",
       "  --sklearn-color-fitted-level-2: #b3dbfd;\n",
       "  --sklearn-color-fitted-level-3: cornflowerblue;\n",
       "\n",
       "  /* Specific color for light theme */\n",
       "  --sklearn-color-text-on-default-background: var(--sg-text-color, var(--theme-code-foreground, var(--jp-content-font-color1, black)));\n",
       "  --sklearn-color-background: var(--sg-background-color, var(--theme-background, var(--jp-layout-color0, white)));\n",
       "  --sklearn-color-border-box: var(--sg-text-color, var(--theme-code-foreground, var(--jp-content-font-color1, black)));\n",
       "  --sklearn-color-icon: #696969;\n",
       "\n",
       "  @media (prefers-color-scheme: dark) {\n",
       "    /* Redefinition of color scheme for dark theme */\n",
       "    --sklearn-color-text-on-default-background: var(--sg-text-color, var(--theme-code-foreground, var(--jp-content-font-color1, white)));\n",
       "    --sklearn-color-background: var(--sg-background-color, var(--theme-background, var(--jp-layout-color0, #111)));\n",
       "    --sklearn-color-border-box: var(--sg-text-color, var(--theme-code-foreground, var(--jp-content-font-color1, white)));\n",
       "    --sklearn-color-icon: #878787;\n",
       "  }\n",
       "}\n",
       "\n",
       "#sk-container-id-2 {\n",
       "  color: var(--sklearn-color-text);\n",
       "}\n",
       "\n",
       "#sk-container-id-2 pre {\n",
       "  padding: 0;\n",
       "}\n",
       "\n",
       "#sk-container-id-2 input.sk-hidden--visually {\n",
       "  border: 0;\n",
       "  clip: rect(1px 1px 1px 1px);\n",
       "  clip: rect(1px, 1px, 1px, 1px);\n",
       "  height: 1px;\n",
       "  margin: -1px;\n",
       "  overflow: hidden;\n",
       "  padding: 0;\n",
       "  position: absolute;\n",
       "  width: 1px;\n",
       "}\n",
       "\n",
       "#sk-container-id-2 div.sk-dashed-wrapped {\n",
       "  border: 1px dashed var(--sklearn-color-line);\n",
       "  margin: 0 0.4em 0.5em 0.4em;\n",
       "  box-sizing: border-box;\n",
       "  padding-bottom: 0.4em;\n",
       "  background-color: var(--sklearn-color-background);\n",
       "}\n",
       "\n",
       "#sk-container-id-2 div.sk-container {\n",
       "  /* jupyter's `normalize.less` sets `[hidden] { display: none; }`\n",
       "     but bootstrap.min.css set `[hidden] { display: none !important; }`\n",
       "     so we also need the `!important` here to be able to override the\n",
       "     default hidden behavior on the sphinx rendered scikit-learn.org.\n",
       "     See: https://github.com/scikit-learn/scikit-learn/issues/21755 */\n",
       "  display: inline-block !important;\n",
       "  position: relative;\n",
       "}\n",
       "\n",
       "#sk-container-id-2 div.sk-text-repr-fallback {\n",
       "  display: none;\n",
       "}\n",
       "\n",
       "div.sk-parallel-item,\n",
       "div.sk-serial,\n",
       "div.sk-item {\n",
       "  /* draw centered vertical line to link estimators */\n",
       "  background-image: linear-gradient(var(--sklearn-color-text-on-default-background), var(--sklearn-color-text-on-default-background));\n",
       "  background-size: 2px 100%;\n",
       "  background-repeat: no-repeat;\n",
       "  background-position: center center;\n",
       "}\n",
       "\n",
       "/* Parallel-specific style estimator block */\n",
       "\n",
       "#sk-container-id-2 div.sk-parallel-item::after {\n",
       "  content: \"\";\n",
       "  width: 100%;\n",
       "  border-bottom: 2px solid var(--sklearn-color-text-on-default-background);\n",
       "  flex-grow: 1;\n",
       "}\n",
       "\n",
       "#sk-container-id-2 div.sk-parallel {\n",
       "  display: flex;\n",
       "  align-items: stretch;\n",
       "  justify-content: center;\n",
       "  background-color: var(--sklearn-color-background);\n",
       "  position: relative;\n",
       "}\n",
       "\n",
       "#sk-container-id-2 div.sk-parallel-item {\n",
       "  display: flex;\n",
       "  flex-direction: column;\n",
       "}\n",
       "\n",
       "#sk-container-id-2 div.sk-parallel-item:first-child::after {\n",
       "  align-self: flex-end;\n",
       "  width: 50%;\n",
       "}\n",
       "\n",
       "#sk-container-id-2 div.sk-parallel-item:last-child::after {\n",
       "  align-self: flex-start;\n",
       "  width: 50%;\n",
       "}\n",
       "\n",
       "#sk-container-id-2 div.sk-parallel-item:only-child::after {\n",
       "  width: 0;\n",
       "}\n",
       "\n",
       "/* Serial-specific style estimator block */\n",
       "\n",
       "#sk-container-id-2 div.sk-serial {\n",
       "  display: flex;\n",
       "  flex-direction: column;\n",
       "  align-items: center;\n",
       "  background-color: var(--sklearn-color-background);\n",
       "  padding-right: 1em;\n",
       "  padding-left: 1em;\n",
       "}\n",
       "\n",
       "\n",
       "/* Toggleable style: style used for estimator/Pipeline/ColumnTransformer box that is\n",
       "clickable and can be expanded/collapsed.\n",
       "- Pipeline and ColumnTransformer use this feature and define the default style\n",
       "- Estimators will overwrite some part of the style using the `sk-estimator` class\n",
       "*/\n",
       "\n",
       "/* Pipeline and ColumnTransformer style (default) */\n",
       "\n",
       "#sk-container-id-2 div.sk-toggleable {\n",
       "  /* Default theme specific background. It is overwritten whether we have a\n",
       "  specific estimator or a Pipeline/ColumnTransformer */\n",
       "  background-color: var(--sklearn-color-background);\n",
       "}\n",
       "\n",
       "/* Toggleable label */\n",
       "#sk-container-id-2 label.sk-toggleable__label {\n",
       "  cursor: pointer;\n",
       "  display: block;\n",
       "  width: 100%;\n",
       "  margin-bottom: 0;\n",
       "  padding: 0.5em;\n",
       "  box-sizing: border-box;\n",
       "  text-align: center;\n",
       "}\n",
       "\n",
       "#sk-container-id-2 label.sk-toggleable__label-arrow:before {\n",
       "  /* Arrow on the left of the label */\n",
       "  content: \"▸\";\n",
       "  float: left;\n",
       "  margin-right: 0.25em;\n",
       "  color: var(--sklearn-color-icon);\n",
       "}\n",
       "\n",
       "#sk-container-id-2 label.sk-toggleable__label-arrow:hover:before {\n",
       "  color: var(--sklearn-color-text);\n",
       "}\n",
       "\n",
       "/* Toggleable content - dropdown */\n",
       "\n",
       "#sk-container-id-2 div.sk-toggleable__content {\n",
       "  max-height: 0;\n",
       "  max-width: 0;\n",
       "  overflow: hidden;\n",
       "  text-align: left;\n",
       "  /* unfitted */\n",
       "  background-color: var(--sklearn-color-unfitted-level-0);\n",
       "}\n",
       "\n",
       "#sk-container-id-2 div.sk-toggleable__content.fitted {\n",
       "  /* fitted */\n",
       "  background-color: var(--sklearn-color-fitted-level-0);\n",
       "}\n",
       "\n",
       "#sk-container-id-2 div.sk-toggleable__content pre {\n",
       "  margin: 0.2em;\n",
       "  border-radius: 0.25em;\n",
       "  color: var(--sklearn-color-text);\n",
       "  /* unfitted */\n",
       "  background-color: var(--sklearn-color-unfitted-level-0);\n",
       "}\n",
       "\n",
       "#sk-container-id-2 div.sk-toggleable__content.fitted pre {\n",
       "  /* unfitted */\n",
       "  background-color: var(--sklearn-color-fitted-level-0);\n",
       "}\n",
       "\n",
       "#sk-container-id-2 input.sk-toggleable__control:checked~div.sk-toggleable__content {\n",
       "  /* Expand drop-down */\n",
       "  max-height: 200px;\n",
       "  max-width: 100%;\n",
       "  overflow: auto;\n",
       "}\n",
       "\n",
       "#sk-container-id-2 input.sk-toggleable__control:checked~label.sk-toggleable__label-arrow:before {\n",
       "  content: \"▾\";\n",
       "}\n",
       "\n",
       "/* Pipeline/ColumnTransformer-specific style */\n",
       "\n",
       "#sk-container-id-2 div.sk-label input.sk-toggleable__control:checked~label.sk-toggleable__label {\n",
       "  color: var(--sklearn-color-text);\n",
       "  background-color: var(--sklearn-color-unfitted-level-2);\n",
       "}\n",
       "\n",
       "#sk-container-id-2 div.sk-label.fitted input.sk-toggleable__control:checked~label.sk-toggleable__label {\n",
       "  background-color: var(--sklearn-color-fitted-level-2);\n",
       "}\n",
       "\n",
       "/* Estimator-specific style */\n",
       "\n",
       "/* Colorize estimator box */\n",
       "#sk-container-id-2 div.sk-estimator input.sk-toggleable__control:checked~label.sk-toggleable__label {\n",
       "  /* unfitted */\n",
       "  background-color: var(--sklearn-color-unfitted-level-2);\n",
       "}\n",
       "\n",
       "#sk-container-id-2 div.sk-estimator.fitted input.sk-toggleable__control:checked~label.sk-toggleable__label {\n",
       "  /* fitted */\n",
       "  background-color: var(--sklearn-color-fitted-level-2);\n",
       "}\n",
       "\n",
       "#sk-container-id-2 div.sk-label label.sk-toggleable__label,\n",
       "#sk-container-id-2 div.sk-label label {\n",
       "  /* The background is the default theme color */\n",
       "  color: var(--sklearn-color-text-on-default-background);\n",
       "}\n",
       "\n",
       "/* On hover, darken the color of the background */\n",
       "#sk-container-id-2 div.sk-label:hover label.sk-toggleable__label {\n",
       "  color: var(--sklearn-color-text);\n",
       "  background-color: var(--sklearn-color-unfitted-level-2);\n",
       "}\n",
       "\n",
       "/* Label box, darken color on hover, fitted */\n",
       "#sk-container-id-2 div.sk-label.fitted:hover label.sk-toggleable__label.fitted {\n",
       "  color: var(--sklearn-color-text);\n",
       "  background-color: var(--sklearn-color-fitted-level-2);\n",
       "}\n",
       "\n",
       "/* Estimator label */\n",
       "\n",
       "#sk-container-id-2 div.sk-label label {\n",
       "  font-family: monospace;\n",
       "  font-weight: bold;\n",
       "  display: inline-block;\n",
       "  line-height: 1.2em;\n",
       "}\n",
       "\n",
       "#sk-container-id-2 div.sk-label-container {\n",
       "  text-align: center;\n",
       "}\n",
       "\n",
       "/* Estimator-specific */\n",
       "#sk-container-id-2 div.sk-estimator {\n",
       "  font-family: monospace;\n",
       "  border: 1px dotted var(--sklearn-color-border-box);\n",
       "  border-radius: 0.25em;\n",
       "  box-sizing: border-box;\n",
       "  margin-bottom: 0.5em;\n",
       "  /* unfitted */\n",
       "  background-color: var(--sklearn-color-unfitted-level-0);\n",
       "}\n",
       "\n",
       "#sk-container-id-2 div.sk-estimator.fitted {\n",
       "  /* fitted */\n",
       "  background-color: var(--sklearn-color-fitted-level-0);\n",
       "}\n",
       "\n",
       "/* on hover */\n",
       "#sk-container-id-2 div.sk-estimator:hover {\n",
       "  /* unfitted */\n",
       "  background-color: var(--sklearn-color-unfitted-level-2);\n",
       "}\n",
       "\n",
       "#sk-container-id-2 div.sk-estimator.fitted:hover {\n",
       "  /* fitted */\n",
       "  background-color: var(--sklearn-color-fitted-level-2);\n",
       "}\n",
       "\n",
       "/* Specification for estimator info (e.g. \"i\" and \"?\") */\n",
       "\n",
       "/* Common style for \"i\" and \"?\" */\n",
       "\n",
       ".sk-estimator-doc-link,\n",
       "a:link.sk-estimator-doc-link,\n",
       "a:visited.sk-estimator-doc-link {\n",
       "  float: right;\n",
       "  font-size: smaller;\n",
       "  line-height: 1em;\n",
       "  font-family: monospace;\n",
       "  background-color: var(--sklearn-color-background);\n",
       "  border-radius: 1em;\n",
       "  height: 1em;\n",
       "  width: 1em;\n",
       "  text-decoration: none !important;\n",
       "  margin-left: 1ex;\n",
       "  /* unfitted */\n",
       "  border: var(--sklearn-color-unfitted-level-1) 1pt solid;\n",
       "  color: var(--sklearn-color-unfitted-level-1);\n",
       "}\n",
       "\n",
       ".sk-estimator-doc-link.fitted,\n",
       "a:link.sk-estimator-doc-link.fitted,\n",
       "a:visited.sk-estimator-doc-link.fitted {\n",
       "  /* fitted */\n",
       "  border: var(--sklearn-color-fitted-level-1) 1pt solid;\n",
       "  color: var(--sklearn-color-fitted-level-1);\n",
       "}\n",
       "\n",
       "/* On hover */\n",
       "div.sk-estimator:hover .sk-estimator-doc-link:hover,\n",
       ".sk-estimator-doc-link:hover,\n",
       "div.sk-label-container:hover .sk-estimator-doc-link:hover,\n",
       ".sk-estimator-doc-link:hover {\n",
       "  /* unfitted */\n",
       "  background-color: var(--sklearn-color-unfitted-level-3);\n",
       "  color: var(--sklearn-color-background);\n",
       "  text-decoration: none;\n",
       "}\n",
       "\n",
       "div.sk-estimator.fitted:hover .sk-estimator-doc-link.fitted:hover,\n",
       ".sk-estimator-doc-link.fitted:hover,\n",
       "div.sk-label-container:hover .sk-estimator-doc-link.fitted:hover,\n",
       ".sk-estimator-doc-link.fitted:hover {\n",
       "  /* fitted */\n",
       "  background-color: var(--sklearn-color-fitted-level-3);\n",
       "  color: var(--sklearn-color-background);\n",
       "  text-decoration: none;\n",
       "}\n",
       "\n",
       "/* Span, style for the box shown on hovering the info icon */\n",
       ".sk-estimator-doc-link span {\n",
       "  display: none;\n",
       "  z-index: 9999;\n",
       "  position: relative;\n",
       "  font-weight: normal;\n",
       "  right: .2ex;\n",
       "  padding: .5ex;\n",
       "  margin: .5ex;\n",
       "  width: min-content;\n",
       "  min-width: 20ex;\n",
       "  max-width: 50ex;\n",
       "  color: var(--sklearn-color-text);\n",
       "  box-shadow: 2pt 2pt 4pt #999;\n",
       "  /* unfitted */\n",
       "  background: var(--sklearn-color-unfitted-level-0);\n",
       "  border: .5pt solid var(--sklearn-color-unfitted-level-3);\n",
       "}\n",
       "\n",
       ".sk-estimator-doc-link.fitted span {\n",
       "  /* fitted */\n",
       "  background: var(--sklearn-color-fitted-level-0);\n",
       "  border: var(--sklearn-color-fitted-level-3);\n",
       "}\n",
       "\n",
       ".sk-estimator-doc-link:hover span {\n",
       "  display: block;\n",
       "}\n",
       "\n",
       "/* \"?\"-specific style due to the `<a>` HTML tag */\n",
       "\n",
       "#sk-container-id-2 a.estimator_doc_link {\n",
       "  float: right;\n",
       "  font-size: 1rem;\n",
       "  line-height: 1em;\n",
       "  font-family: monospace;\n",
       "  background-color: var(--sklearn-color-background);\n",
       "  border-radius: 1rem;\n",
       "  height: 1rem;\n",
       "  width: 1rem;\n",
       "  text-decoration: none;\n",
       "  /* unfitted */\n",
       "  color: var(--sklearn-color-unfitted-level-1);\n",
       "  border: var(--sklearn-color-unfitted-level-1) 1pt solid;\n",
       "}\n",
       "\n",
       "#sk-container-id-2 a.estimator_doc_link.fitted {\n",
       "  /* fitted */\n",
       "  border: var(--sklearn-color-fitted-level-1) 1pt solid;\n",
       "  color: var(--sklearn-color-fitted-level-1);\n",
       "}\n",
       "\n",
       "/* On hover */\n",
       "#sk-container-id-2 a.estimator_doc_link:hover {\n",
       "  /* unfitted */\n",
       "  background-color: var(--sklearn-color-unfitted-level-3);\n",
       "  color: var(--sklearn-color-background);\n",
       "  text-decoration: none;\n",
       "}\n",
       "\n",
       "#sk-container-id-2 a.estimator_doc_link.fitted:hover {\n",
       "  /* fitted */\n",
       "  background-color: var(--sklearn-color-fitted-level-3);\n",
       "}\n",
       "</style><div id=\"sk-container-id-2\" class=\"sk-top-container\"><div class=\"sk-text-repr-fallback\"><pre>KNeighborsClassifier()</pre><b>In a Jupyter environment, please rerun this cell to show the HTML representation or trust the notebook. <br />On GitHub, the HTML representation is unable to render, please try loading this page with nbviewer.org.</b></div><div class=\"sk-container\" hidden><div class=\"sk-item\"><div class=\"sk-estimator fitted sk-toggleable\"><input class=\"sk-toggleable__control sk-hidden--visually\" id=\"sk-estimator-id-2\" type=\"checkbox\" checked><label for=\"sk-estimator-id-2\" class=\"sk-toggleable__label fitted sk-toggleable__label-arrow fitted\">&nbsp;&nbsp;KNeighborsClassifier<a class=\"sk-estimator-doc-link fitted\" rel=\"noreferrer\" target=\"_blank\" href=\"https://scikit-learn.org/1.5/modules/generated/sklearn.neighbors.KNeighborsClassifier.html\">?<span>Documentation for KNeighborsClassifier</span></a><span class=\"sk-estimator-doc-link fitted\">i<span>Fitted</span></span></label><div class=\"sk-toggleable__content fitted\"><pre>KNeighborsClassifier()</pre></div> </div></div></div></div>"
      ],
      "text/plain": [
       "KNeighborsClassifier()"
      ]
     },
     "execution_count": 21,
     "metadata": {},
     "output_type": "execute_result"
    }
   ],
   "source": [
    "from sklearn.neighbors import KNeighborsClassifier \n",
    "num_nearest_neighbours = 5 #number of neighbours \n",
    "knn = KNeighborsClassifier(n_neighbors = num_nearest_neighbours) \n",
    "knn.fit(training_word_histograms, training_food_labels) "
   ]
  },
  {
   "cell_type": "code",
   "execution_count": null,
   "id": "7637f9f1",
   "metadata": {},
   "outputs": [
    {
     "name": "stdout",
     "output_type": "stream",
     "text": [
      "Food label:  [0 0 0 0 0 0 0 0 1 0 0 1 2 0 0 2 0 0 2 0 0 2 0 0 2 2 0 2 0 1 1 2 2 2 1 1 1\n",
      " 1 1 2 1 1 1 1 1 1 1 1 1 1 1 1 1 1 1 1 1 1 1 1 2 1 0 1 1 2 2 2 1 2 2 2 2 2\n",
      " 2 2 2 2 2 1 2 2 2 2 2 2 2 2 1 1]\n"
     ]
    }
   ],
   "source": [
    "test_file_names = [] \n",
    "test_food_labels = []\n",
    "\n",
    "#load test images and create word histograms\n",
    "for i in range(0, len(foods)): \n",
    "    sub_path = path + 'Test/' + foods[i] + '/' \n",
    "    sub_file_names = [os.path.join(sub_path, f) for f in os.listdir(sub_path)] \n",
    "    sub_food_labels = [i] * len(sub_file_names) #create a list of N elements, all are i \n",
    "    test_file_names += sub_file_names \n",
    "    test_food_labels += sub_food_labels \n",
    "    \n",
    "word_histograms = dictionary.create_word_histograms(test_file_names) \n",
    "predicted_food_labels = knn.predict(word_histograms) "
   ]
  },
  {
   "cell_type": "code",
   "execution_count": 29,
   "id": "1b2cc544",
   "metadata": {},
   "outputs": [
    {
     "name": "stdout",
     "output_type": "stream",
     "text": [
      "[[20  3  7]\n",
      " [ 0 26  4]\n",
      " [ 1  7 22]]\n",
      "              precision    recall  f1-score   support\n",
      "\n",
      "           0       0.95      0.67      0.78        30\n",
      "           1       0.72      0.87      0.79        30\n",
      "           2       0.67      0.73      0.70        30\n",
      "\n",
      "    accuracy                           0.76        90\n",
      "   macro avg       0.78      0.76      0.76        90\n",
      "weighted avg       0.78      0.76      0.76        90\n",
      "\n"
     ]
    }
   ],
   "source": [
    "from sklearn.metrics import classification_report, confusion_matrix \n",
    "cm = confusion_matrix(test_food_labels, predicted_food_labels) \n",
    "print(cm) \n",
    "print(classification_report(test_food_labels, predicted_food_labels))"
   ]
  },
  {
   "cell_type": "code",
   "execution_count": null,
   "id": "7cf3a779",
   "metadata": {},
   "outputs": [
    {
     "name": "stdout",
     "output_type": "stream",
     "text": [
      "[[17  3 10]\n",
      " [ 0 26  4]\n",
      " [ 0  7 23]]\n",
      "              precision    recall  f1-score   support\n",
      "\n",
      "           0       1.00      0.57      0.72        30\n",
      "           1       0.72      0.87      0.79        30\n",
      "           2       0.62      0.77      0.69        30\n",
      "\n",
      "    accuracy                           0.73        90\n",
      "   macro avg       0.78      0.73      0.73        90\n",
      "weighted avg       0.78      0.73      0.73        90\n",
      "\n"
     ]
    }
   ],
   "source": [
    "num_nearest_neighbours = 10 #number of neighbours \n",
    "knn = KNeighborsClassifier(n_neighbors = num_nearest_neighbours) \n",
    "knn.fit(training_word_histograms, training_food_labels) \n",
    "predicted_food_labels = knn.predict(word_histograms) \n",
    "cm = confusion_matrix(test_food_labels, predicted_food_labels) \n",
    "print(cm) \n",
    "print(classification_report(test_food_labels, predicted_food_labels))"
   ]
  },
  {
   "cell_type": "code",
   "execution_count": 38,
   "id": "45083710",
   "metadata": {},
   "outputs": [
    {
     "name": "stdout",
     "output_type": "stream",
     "text": [
      "[[14  5 11]\n",
      " [ 0 27  3]\n",
      " [ 0  6 24]]\n",
      "              precision    recall  f1-score   support\n",
      "\n",
      "           0       1.00      0.47      0.64        30\n",
      "           1       0.71      0.90      0.79        30\n",
      "           2       0.63      0.80      0.71        30\n",
      "\n",
      "    accuracy                           0.72        90\n",
      "   macro avg       0.78      0.72      0.71        90\n",
      "weighted avg       0.78      0.72      0.71        90\n",
      "\n"
     ]
    }
   ],
   "source": [
    "num_nearest_neighbours = 15 #number of neighbours \n",
    "knn = KNeighborsClassifier(n_neighbors = num_nearest_neighbours) \n",
    "knn.fit(training_word_histograms, training_food_labels) \n",
    "predicted_food_labels = knn.predict(word_histograms) \n",
    "cm = confusion_matrix(test_food_labels, predicted_food_labels) \n",
    "print(cm) \n",
    "print(classification_report(test_food_labels, predicted_food_labels))"
   ]
  },
  {
   "cell_type": "code",
   "execution_count": 39,
   "id": "efd5df16",
   "metadata": {},
   "outputs": [
    {
     "name": "stdout",
     "output_type": "stream",
     "text": [
      "[[14  7  9]\n",
      " [ 0 27  3]\n",
      " [ 0  7 23]]\n",
      "              precision    recall  f1-score   support\n",
      "\n",
      "           0       1.00      0.47      0.64        30\n",
      "           1       0.66      0.90      0.76        30\n",
      "           2       0.66      0.77      0.71        30\n",
      "\n",
      "    accuracy                           0.71        90\n",
      "   macro avg       0.77      0.71      0.70        90\n",
      "weighted avg       0.77      0.71      0.70        90\n",
      "\n"
     ]
    }
   ],
   "source": [
    "num_nearest_neighbours = 20 #number of neighbours \n",
    "knn = KNeighborsClassifier(n_neighbors = num_nearest_neighbours) \n",
    "knn.fit(training_word_histograms, training_food_labels) \n",
    "predicted_food_labels = knn.predict(word_histograms) \n",
    "cm = confusion_matrix(test_food_labels, predicted_food_labels) \n",
    "print(cm) \n",
    "print(classification_report(test_food_labels, predicted_food_labels))"
   ]
  },
  {
   "cell_type": "code",
   "execution_count": 40,
   "id": "e5caa209",
   "metadata": {},
   "outputs": [
    {
     "name": "stdout",
     "output_type": "stream",
     "text": [
      "[[11 11  8]\n",
      " [ 0 26  4]\n",
      " [ 0  9 21]]\n",
      "              precision    recall  f1-score   support\n",
      "\n",
      "           0       1.00      0.37      0.54        30\n",
      "           1       0.57      0.87      0.68        30\n",
      "           2       0.64      0.70      0.67        30\n",
      "\n",
      "    accuracy                           0.64        90\n",
      "   macro avg       0.73      0.64      0.63        90\n",
      "weighted avg       0.73      0.64      0.63        90\n",
      "\n"
     ]
    }
   ],
   "source": [
    "num_nearest_neighbours = 25 #number of neighbours \n",
    "knn = KNeighborsClassifier(n_neighbors = num_nearest_neighbours) \n",
    "knn.fit(training_word_histograms, training_food_labels) \n",
    "predicted_food_labels = knn.predict(word_histograms) \n",
    "cm = confusion_matrix(test_food_labels, predicted_food_labels) \n",
    "print(cm) \n",
    "print(classification_report(test_food_labels, predicted_food_labels))"
   ]
  },
  {
   "cell_type": "code",
   "execution_count": 41,
   "id": "db37c648",
   "metadata": {},
   "outputs": [
    {
     "name": "stdout",
     "output_type": "stream",
     "text": [
      "[[12 11  7]\n",
      " [ 0 27  3]\n",
      " [ 0 10 20]]\n",
      "              precision    recall  f1-score   support\n",
      "\n",
      "           0       1.00      0.40      0.57        30\n",
      "           1       0.56      0.90      0.69        30\n",
      "           2       0.67      0.67      0.67        30\n",
      "\n",
      "    accuracy                           0.66        90\n",
      "   macro avg       0.74      0.66      0.64        90\n",
      "weighted avg       0.74      0.66      0.64        90\n",
      "\n"
     ]
    }
   ],
   "source": [
    "num_nearest_neighbours = 30 #number of neighbours \n",
    "knn = KNeighborsClassifier(n_neighbors = num_nearest_neighbours) \n",
    "knn.fit(training_word_histograms, training_food_labels) \n",
    "predicted_food_labels = knn.predict(word_histograms) \n",
    "cm = confusion_matrix(test_food_labels, predicted_food_labels) \n",
    "print(cm) \n",
    "print(classification_report(test_food_labels, predicted_food_labels))"
   ]
  },
  {
   "cell_type": "markdown",
   "id": "245d4264",
   "metadata": {},
   "source": [
    "# SVM"
   ]
  },
  {
   "cell_type": "code",
   "execution_count": 62,
   "id": "07db0a98",
   "metadata": {},
   "outputs": [
    {
     "name": "stdout",
     "output_type": "stream",
     "text": [
      "[[23  2  5]\n",
      " [ 0 23  7]\n",
      " [ 1  6 23]]\n",
      "              precision    recall  f1-score   support\n",
      "\n",
      "           0       0.96      0.77      0.85        30\n",
      "           1       0.74      0.77      0.75        30\n",
      "           2       0.66      0.77      0.71        30\n",
      "\n",
      "    accuracy                           0.77        90\n",
      "   macro avg       0.79      0.77      0.77        90\n",
      "weighted avg       0.79      0.77      0.77        90\n",
      "\n"
     ]
    }
   ],
   "source": [
    "from sklearn import svm \n",
    "svm_classifier = svm.SVC(C = 10, #see slide 32 in week 4 handouts \n",
    "kernel = 'linear') #see slide 35 in week 4 handouts \n",
    "svm_classifier.fit(training_word_histograms, training_food_labels)\n",
    "predicted_food_labels = svm_classifier.predict(word_histograms) \n",
    "cm = confusion_matrix(test_food_labels, predicted_food_labels) \n",
    "print(cm) \n",
    "print(classification_report(test_food_labels, predicted_food_labels))"
   ]
  },
  {
   "cell_type": "code",
   "execution_count": 63,
   "id": "a161b498",
   "metadata": {},
   "outputs": [
    {
     "name": "stdout",
     "output_type": "stream",
     "text": [
      "[[26  2  2]\n",
      " [ 0 23  7]\n",
      " [ 1  1 28]]\n",
      "              precision    recall  f1-score   support\n",
      "\n",
      "           0       0.96      0.87      0.91        30\n",
      "           1       0.88      0.77      0.82        30\n",
      "           2       0.76      0.93      0.84        30\n",
      "\n",
      "    accuracy                           0.86        90\n",
      "   macro avg       0.87      0.86      0.86        90\n",
      "weighted avg       0.87      0.86      0.86        90\n",
      "\n"
     ]
    }
   ],
   "source": [
    "svm_classifier = svm.SVC(C = 20, #see slide 32 in week 4 handouts \n",
    "kernel = 'linear') #see slide 35 in week 4 handouts \n",
    "svm_classifier.fit(training_word_histograms, training_food_labels)\n",
    "predicted_food_labels = svm_classifier.predict(word_histograms) \n",
    "cm = confusion_matrix(test_food_labels, predicted_food_labels) \n",
    "print(cm) \n",
    "print(classification_report(test_food_labels, predicted_food_labels))"
   ]
  },
  {
   "cell_type": "code",
   "execution_count": 64,
   "id": "ce9debb0",
   "metadata": {},
   "outputs": [
    {
     "name": "stdout",
     "output_type": "stream",
     "text": [
      "[[26  2  2]\n",
      " [ 0 23  7]\n",
      " [ 1  4 25]]\n",
      "              precision    recall  f1-score   support\n",
      "\n",
      "           0       0.96      0.87      0.91        30\n",
      "           1       0.79      0.77      0.78        30\n",
      "           2       0.74      0.83      0.78        30\n",
      "\n",
      "    accuracy                           0.82        90\n",
      "   macro avg       0.83      0.82      0.82        90\n",
      "weighted avg       0.83      0.82      0.82        90\n",
      "\n"
     ]
    }
   ],
   "source": [
    "svm_classifier = svm.SVC(C = 30, #see slide 32 in week 4 handouts \n",
    "kernel = 'linear') #see slide 35 in week 4 handouts \n",
    "svm_classifier.fit(training_word_histograms, training_food_labels)\n",
    "predicted_food_labels = svm_classifier.predict(word_histograms) \n",
    "cm = confusion_matrix(test_food_labels, predicted_food_labels) \n",
    "print(cm) \n",
    "print(classification_report(test_food_labels, predicted_food_labels))"
   ]
  },
  {
   "cell_type": "code",
   "execution_count": 65,
   "id": "662d8ac2",
   "metadata": {},
   "outputs": [
    {
     "name": "stdout",
     "output_type": "stream",
     "text": [
      "[[26  2  2]\n",
      " [ 0 24  6]\n",
      " [ 1  4 25]]\n",
      "              precision    recall  f1-score   support\n",
      "\n",
      "           0       0.96      0.87      0.91        30\n",
      "           1       0.80      0.80      0.80        30\n",
      "           2       0.76      0.83      0.79        30\n",
      "\n",
      "    accuracy                           0.83        90\n",
      "   macro avg       0.84      0.83      0.84        90\n",
      "weighted avg       0.84      0.83      0.84        90\n",
      "\n"
     ]
    }
   ],
   "source": [
    "svm_classifier = svm.SVC(C = 40, #see slide 32 in week 4 handouts \n",
    "kernel = 'linear') #see slide 35 in week 4 handouts \n",
    "svm_classifier.fit(training_word_histograms, training_food_labels)\n",
    "predicted_food_labels = svm_classifier.predict(word_histograms) \n",
    "cm = confusion_matrix(test_food_labels, predicted_food_labels) \n",
    "print(cm) \n",
    "print(classification_report(test_food_labels, predicted_food_labels))"
   ]
  },
  {
   "cell_type": "code",
   "execution_count": null,
   "id": "50442a88",
   "metadata": {},
   "outputs": [
    {
     "name": "stdout",
     "output_type": "stream",
     "text": [
      "[[26  2  2]\n",
      " [ 0 24  6]\n",
      " [ 1  4 25]]\n",
      "              precision    recall  f1-score   support\n",
      "\n",
      "           0       0.96      0.87      0.91        30\n",
      "           1       0.80      0.80      0.80        30\n",
      "           2       0.76      0.83      0.79        30\n",
      "\n",
      "    accuracy                           0.83        90\n",
      "   macro avg       0.84      0.83      0.84        90\n",
      "weighted avg       0.84      0.83      0.84        90\n",
      "\n"
     ]
    }
   ],
   "source": [
    "svm_classifier = svm.SVC(C = 50, #see slide 32 in week 4 handouts \n",
    "kernel = 'linear') #see slide 35 in week 4 handouts \n",
    "svm_classifier.fit(training_word_histograms, training_food_labels)\n",
    "predicted_food_labels = svm_classifier.predict(word_histograms) \n",
    "cm = confusion_matrix(test_food_labels, predicted_food_labels) \n",
    "print(cm) \n",
    "print(classification_report(test_food_labels, predicted_food_labels))"
   ]
  },
  {
   "cell_type": "markdown",
   "id": "d5a7a756",
   "metadata": {},
   "source": [
    "# AdaBoost"
   ]
  },
  {
   "cell_type": "code",
   "execution_count": 68,
   "id": "ede4e138",
   "metadata": {},
   "outputs": [
    {
     "name": "stdout",
     "output_type": "stream",
     "text": [
      "[[19  1 10]\n",
      " [ 0 20 10]\n",
      " [ 0  8 22]]\n",
      "              precision    recall  f1-score   support\n",
      "\n",
      "           0       1.00      0.63      0.78        30\n",
      "           1       0.69      0.67      0.68        30\n",
      "           2       0.52      0.73      0.61        30\n",
      "\n",
      "    accuracy                           0.68        90\n",
      "   macro avg       0.74      0.68      0.69        90\n",
      "weighted avg       0.74      0.68      0.69        90\n",
      "\n"
     ]
    },
    {
     "name": "stderr",
     "output_type": "stream",
     "text": [
      "c:\\Users\\micha\\anaconda3\\Lib\\site-packages\\sklearn\\ensemble\\_weight_boosting.py:527: FutureWarning: The SAMME.R algorithm (the default) is deprecated and will be removed in 1.6. Use the SAMME algorithm to circumvent this warning.\n",
      "  warnings.warn(\n"
     ]
    }
   ],
   "source": [
    "from sklearn.ensemble import AdaBoostClassifier \n",
    "adb_classifier = AdaBoostClassifier(n_estimators = 50, #number of weak classifiers \n",
    "random_state = 0) \n",
    "adb_classifier.fit(training_word_histograms, training_food_labels)\n",
    "predicted_food_labels = adb_classifier.predict(word_histograms)\n",
    "cm = confusion_matrix(test_food_labels, predicted_food_labels) \n",
    "print(cm) \n",
    "print(classification_report(test_food_labels, predicted_food_labels))"
   ]
  },
  {
   "cell_type": "code",
   "execution_count": 69,
   "id": "8d127bd2",
   "metadata": {},
   "outputs": [
    {
     "name": "stderr",
     "output_type": "stream",
     "text": [
      "c:\\Users\\micha\\anaconda3\\Lib\\site-packages\\sklearn\\ensemble\\_weight_boosting.py:527: FutureWarning: The SAMME.R algorithm (the default) is deprecated and will be removed in 1.6. Use the SAMME algorithm to circumvent this warning.\n",
      "  warnings.warn(\n"
     ]
    },
    {
     "name": "stdout",
     "output_type": "stream",
     "text": [
      "[[20  1  9]\n",
      " [ 0 21  9]\n",
      " [ 1  2 27]]\n",
      "              precision    recall  f1-score   support\n",
      "\n",
      "           0       0.95      0.67      0.78        30\n",
      "           1       0.88      0.70      0.78        30\n",
      "           2       0.60      0.90      0.72        30\n",
      "\n",
      "    accuracy                           0.76        90\n",
      "   macro avg       0.81      0.76      0.76        90\n",
      "weighted avg       0.81      0.76      0.76        90\n",
      "\n"
     ]
    }
   ],
   "source": [
    "adb_classifier = AdaBoostClassifier(n_estimators = 100, #number of weak classifiers \n",
    "random_state = 0) \n",
    "adb_classifier.fit(training_word_histograms, training_food_labels)\n",
    "predicted_food_labels = adb_classifier.predict(word_histograms)\n",
    "cm = confusion_matrix(test_food_labels, predicted_food_labels) \n",
    "print(cm) \n",
    "print(classification_report(test_food_labels, predicted_food_labels))"
   ]
  },
  {
   "cell_type": "code",
   "execution_count": 70,
   "id": "b73b061f",
   "metadata": {},
   "outputs": [
    {
     "name": "stderr",
     "output_type": "stream",
     "text": [
      "c:\\Users\\micha\\anaconda3\\Lib\\site-packages\\sklearn\\ensemble\\_weight_boosting.py:527: FutureWarning: The SAMME.R algorithm (the default) is deprecated and will be removed in 1.6. Use the SAMME algorithm to circumvent this warning.\n",
      "  warnings.warn(\n"
     ]
    },
    {
     "name": "stdout",
     "output_type": "stream",
     "text": [
      "[[21  1  8]\n",
      " [ 0 22  8]\n",
      " [ 1  1 28]]\n",
      "              precision    recall  f1-score   support\n",
      "\n",
      "           0       0.95      0.70      0.81        30\n",
      "           1       0.92      0.73      0.81        30\n",
      "           2       0.64      0.93      0.76        30\n",
      "\n",
      "    accuracy                           0.79        90\n",
      "   macro avg       0.84      0.79      0.79        90\n",
      "weighted avg       0.84      0.79      0.79        90\n",
      "\n"
     ]
    }
   ],
   "source": [
    "adb_classifier = AdaBoostClassifier(n_estimators = 150, #number of weak classifiers \n",
    "random_state = 0) \n",
    "adb_classifier.fit(training_word_histograms, training_food_labels)\n",
    "predicted_food_labels = adb_classifier.predict(word_histograms)\n",
    "cm = confusion_matrix(test_food_labels, predicted_food_labels) \n",
    "print(cm) \n",
    "print(classification_report(test_food_labels, predicted_food_labels))"
   ]
  },
  {
   "cell_type": "code",
   "execution_count": 71,
   "id": "0d2a260a",
   "metadata": {},
   "outputs": [
    {
     "name": "stderr",
     "output_type": "stream",
     "text": [
      "c:\\Users\\micha\\anaconda3\\Lib\\site-packages\\sklearn\\ensemble\\_weight_boosting.py:527: FutureWarning: The SAMME.R algorithm (the default) is deprecated and will be removed in 1.6. Use the SAMME algorithm to circumvent this warning.\n",
      "  warnings.warn(\n"
     ]
    },
    {
     "name": "stdout",
     "output_type": "stream",
     "text": [
      "[[21  3  6]\n",
      " [ 0 22  8]\n",
      " [ 0  3 27]]\n",
      "              precision    recall  f1-score   support\n",
      "\n",
      "           0       1.00      0.70      0.82        30\n",
      "           1       0.79      0.73      0.76        30\n",
      "           2       0.66      0.90      0.76        30\n",
      "\n",
      "    accuracy                           0.78        90\n",
      "   macro avg       0.81      0.78      0.78        90\n",
      "weighted avg       0.81      0.78      0.78        90\n",
      "\n"
     ]
    }
   ],
   "source": [
    "adb_classifier = AdaBoostClassifier(n_estimators = 200, #number of weak classifiers \n",
    "random_state = 0) \n",
    "adb_classifier.fit(training_word_histograms, training_food_labels)\n",
    "predicted_food_labels = adb_classifier.predict(word_histograms)\n",
    "cm = confusion_matrix(test_food_labels, predicted_food_labels) \n",
    "print(cm) \n",
    "print(classification_report(test_food_labels, predicted_food_labels))"
   ]
  },
  {
   "cell_type": "code",
   "execution_count": 72,
   "id": "763aa8b2",
   "metadata": {},
   "outputs": [
    {
     "name": "stderr",
     "output_type": "stream",
     "text": [
      "c:\\Users\\micha\\anaconda3\\Lib\\site-packages\\sklearn\\ensemble\\_weight_boosting.py:527: FutureWarning: The SAMME.R algorithm (the default) is deprecated and will be removed in 1.6. Use the SAMME algorithm to circumvent this warning.\n",
      "  warnings.warn(\n"
     ]
    },
    {
     "name": "stdout",
     "output_type": "stream",
     "text": [
      "[[20  2  8]\n",
      " [ 0 21  9]\n",
      " [ 1  3 26]]\n",
      "              precision    recall  f1-score   support\n",
      "\n",
      "           0       0.95      0.67      0.78        30\n",
      "           1       0.81      0.70      0.75        30\n",
      "           2       0.60      0.87      0.71        30\n",
      "\n",
      "    accuracy                           0.74        90\n",
      "   macro avg       0.79      0.74      0.75        90\n",
      "weighted avg       0.79      0.74      0.75        90\n",
      "\n"
     ]
    }
   ],
   "source": [
    "adb_classifier = AdaBoostClassifier(n_estimators = 250, #number of weak classifiers \n",
    "random_state = 0) \n",
    "adb_classifier.fit(training_word_histograms, training_food_labels)\n",
    "predicted_food_labels = adb_classifier.predict(word_histograms)\n",
    "cm = confusion_matrix(test_food_labels, predicted_food_labels) \n",
    "print(cm) \n",
    "print(classification_report(test_food_labels, predicted_food_labels))"
   ]
  }
 ],
 "metadata": {
  "kernelspec": {
   "display_name": "base",
   "language": "python",
   "name": "python3"
  },
  "language_info": {
   "codemirror_mode": {
    "name": "ipython",
    "version": 3
   },
   "file_extension": ".py",
   "mimetype": "text/x-python",
   "name": "python",
   "nbconvert_exporter": "python",
   "pygments_lexer": "ipython3",
   "version": "3.12.7"
  }
 },
 "nbformat": 4,
 "nbformat_minor": 5
}
